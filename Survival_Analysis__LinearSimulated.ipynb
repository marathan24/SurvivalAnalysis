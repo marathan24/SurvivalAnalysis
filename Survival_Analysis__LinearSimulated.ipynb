{
 "cells": [
  {
   "cell_type": "code",
   "execution_count": 1,
   "id": "023ea80a",
   "metadata": {
    "id": "023ea80a"
   },
   "outputs": [],
   "source": [
    "import numpy as np\n",
    "import pandas as pd\n",
    "from sklearn.model_selection import train_test_split\n",
    "from sklearn.tree import DecisionTreeClassifier\n",
    "from sklearn.preprocessing import MinMaxScaler\n",
    "import torch\n",
    "from sklearn.metrics import accuracy_score\n",
    "import torch\n",
    "import torch.nn as nn\n",
    "import torch.optim as optim\n",
    "from torch.utils.data import DataLoader, TensorDataset\n",
    "import math\n",
    "from sklearn.model_selection import train_test_split,cross_val_score,KFold,StratifiedKFold\n",
    "import torchtuples as tt"
   ]
  },
  {
   "cell_type": "code",
   "execution_count": 2,
   "id": "e38f06fc",
   "metadata": {
    "id": "e38f06fc"
   },
   "outputs": [],
   "source": [
    "from sksurv.linear_model import CoxPHSurvivalAnalysis, CoxnetSurvivalAnalysis\n",
    "from sksurv.preprocessing import OneHotEncoder, encode_categorical\n",
    "\n",
    "from sklearn import set_config\n",
    "from sklearn.model_selection import GridSearchCV, KFold\n",
    "from sklearn.pipeline import make_pipeline\n",
    "from sklearn.preprocessing import StandardScaler"
   ]
  },
  {
   "cell_type": "code",
   "execution_count": 3,
   "id": "4bc81497",
   "metadata": {
    "id": "4bc81497",
    "outputId": "7091c35d-629c-455a-cd68-228fa057cf7c"
   },
   "outputs": [
    {
     "data": {
      "text/html": [
       "<div>\n",
       "<style scoped>\n",
       "    .dataframe tbody tr th:only-of-type {\n",
       "        vertical-align: middle;\n",
       "    }\n",
       "\n",
       "    .dataframe tbody tr th {\n",
       "        vertical-align: top;\n",
       "    }\n",
       "\n",
       "    .dataframe thead th {\n",
       "        text-align: right;\n",
       "    }\n",
       "</style>\n",
       "<table border=\"1\" class=\"dataframe\">\n",
       "  <thead>\n",
       "    <tr style=\"text-align: right;\">\n",
       "      <th></th>\n",
       "      <th>x.1</th>\n",
       "      <th>x.2</th>\n",
       "      <th>x.3</th>\n",
       "      <th>x.4</th>\n",
       "      <th>x.5</th>\n",
       "      <th>time</th>\n",
       "      <th>status</th>\n",
       "    </tr>\n",
       "  </thead>\n",
       "  <tbody>\n",
       "    <tr>\n",
       "      <th>0</th>\n",
       "      <td>-1.174347</td>\n",
       "      <td>0.573573</td>\n",
       "      <td>-0.374858</td>\n",
       "      <td>1.708831</td>\n",
       "      <td>0.429901</td>\n",
       "      <td>0.045127</td>\n",
       "      <td>0</td>\n",
       "    </tr>\n",
       "    <tr>\n",
       "      <th>1</th>\n",
       "      <td>0.534466</td>\n",
       "      <td>-1.686468</td>\n",
       "      <td>-0.453762</td>\n",
       "      <td>0.506122</td>\n",
       "      <td>-0.401646</td>\n",
       "      <td>0.215132</td>\n",
       "      <td>0</td>\n",
       "    </tr>\n",
       "    <tr>\n",
       "      <th>2</th>\n",
       "      <td>0.411428</td>\n",
       "      <td>-1.942484</td>\n",
       "      <td>1.573165</td>\n",
       "      <td>-0.217526</td>\n",
       "      <td>0.442370</td>\n",
       "      <td>0.012064</td>\n",
       "      <td>0</td>\n",
       "    </tr>\n",
       "    <tr>\n",
       "      <th>3</th>\n",
       "      <td>0.552328</td>\n",
       "      <td>1.121415</td>\n",
       "      <td>-0.552002</td>\n",
       "      <td>1.358358</td>\n",
       "      <td>1.529469</td>\n",
       "      <td>0.000430</td>\n",
       "      <td>0</td>\n",
       "    </tr>\n",
       "    <tr>\n",
       "      <th>4</th>\n",
       "      <td>-0.501650</td>\n",
       "      <td>0.310209</td>\n",
       "      <td>0.648147</td>\n",
       "      <td>-1.036585</td>\n",
       "      <td>1.438970</td>\n",
       "      <td>0.006050</td>\n",
       "      <td>0</td>\n",
       "    </tr>\n",
       "    <tr>\n",
       "      <th>...</th>\n",
       "      <td>...</td>\n",
       "      <td>...</td>\n",
       "      <td>...</td>\n",
       "      <td>...</td>\n",
       "      <td>...</td>\n",
       "      <td>...</td>\n",
       "      <td>...</td>\n",
       "    </tr>\n",
       "    <tr>\n",
       "      <th>495</th>\n",
       "      <td>-1.174363</td>\n",
       "      <td>0.718894</td>\n",
       "      <td>-0.798380</td>\n",
       "      <td>-1.761006</td>\n",
       "      <td>-0.192303</td>\n",
       "      <td>9.568746</td>\n",
       "      <td>0</td>\n",
       "    </tr>\n",
       "    <tr>\n",
       "      <th>496</th>\n",
       "      <td>0.085166</td>\n",
       "      <td>0.031047</td>\n",
       "      <td>-0.126165</td>\n",
       "      <td>1.745919</td>\n",
       "      <td>0.362750</td>\n",
       "      <td>0.004023</td>\n",
       "      <td>0</td>\n",
       "    </tr>\n",
       "    <tr>\n",
       "      <th>497</th>\n",
       "      <td>0.449437</td>\n",
       "      <td>0.035172</td>\n",
       "      <td>0.162151</td>\n",
       "      <td>1.113984</td>\n",
       "      <td>0.849036</td>\n",
       "      <td>0.004372</td>\n",
       "      <td>0</td>\n",
       "    </tr>\n",
       "    <tr>\n",
       "      <th>498</th>\n",
       "      <td>0.773209</td>\n",
       "      <td>1.154781</td>\n",
       "      <td>0.646107</td>\n",
       "      <td>-0.220550</td>\n",
       "      <td>1.611070</td>\n",
       "      <td>0.010570</td>\n",
       "      <td>1</td>\n",
       "    </tr>\n",
       "    <tr>\n",
       "      <th>499</th>\n",
       "      <td>-0.483419</td>\n",
       "      <td>0.840048</td>\n",
       "      <td>-0.049146</td>\n",
       "      <td>-0.447485</td>\n",
       "      <td>-0.440120</td>\n",
       "      <td>0.070694</td>\n",
       "      <td>1</td>\n",
       "    </tr>\n",
       "  </tbody>\n",
       "</table>\n",
       "<p>500 rows × 7 columns</p>\n",
       "</div>"
      ],
      "text/plain": [
       "          x.1       x.2       x.3       x.4       x.5      time  status\n",
       "0   -1.174347  0.573573 -0.374858  1.708831  0.429901  0.045127       0\n",
       "1    0.534466 -1.686468 -0.453762  0.506122 -0.401646  0.215132       0\n",
       "2    0.411428 -1.942484  1.573165 -0.217526  0.442370  0.012064       0\n",
       "3    0.552328  1.121415 -0.552002  1.358358  1.529469  0.000430       0\n",
       "4   -0.501650  0.310209  0.648147 -1.036585  1.438970  0.006050       0\n",
       "..        ...       ...       ...       ...       ...       ...     ...\n",
       "495 -1.174363  0.718894 -0.798380 -1.761006 -0.192303  9.568746       0\n",
       "496  0.085166  0.031047 -0.126165  1.745919  0.362750  0.004023       0\n",
       "497  0.449437  0.035172  0.162151  1.113984  0.849036  0.004372       0\n",
       "498  0.773209  1.154781  0.646107 -0.220550  1.611070  0.010570       1\n",
       "499 -0.483419  0.840048 -0.049146 -0.447485 -0.440120  0.070694       1\n",
       "\n",
       "[500 rows x 7 columns]"
      ]
     },
     "execution_count": 3,
     "metadata": {},
     "output_type": "execute_result"
    }
   ],
   "source": [
    "datas = pd.read_csv('Simulated_Linear.csv')\n",
    "datas"
   ]
  },
  {
   "cell_type": "code",
   "execution_count": 4,
   "id": "a20ae016",
   "metadata": {
    "id": "a20ae016"
   },
   "outputs": [],
   "source": [
    "data_y = datas.loc[:, ['time', 'status']].copy()\n",
    "data_y = data_y.rename(columns={'status': 'cens'})\n",
    "data_x = datas.drop(['time', 'status'], axis=1)\n",
    "\n",
    "X_train, X_test, y_train, y_test = train_test_split(data_x, data_y, test_size=0.3, random_state=1)\n",
    "list_of_tuples = list(y_train.itertuples(index=False, name=None))\n",
    "swapped_list = [(t[1], t[0]) for t in list_of_tuples]\n",
    "y_train = np.array(swapped_list, dtype=[('cens', bool), ('time', float)])\n",
    "list_of_tuples = list(y_test.itertuples(index=False, name=None))\n",
    "swapped_list = [(t[1], t[0]) for t in list_of_tuples]\n",
    "y_test = np.array(swapped_list, dtype=[('cens', bool), ('time', float)])"
   ]
  },
  {
   "cell_type": "code",
   "execution_count": 5,
   "id": "6715b7b9",
   "metadata": {
    "id": "6715b7b9"
   },
   "outputs": [],
   "source": [
    "for df in [X_train, X_test]:\n",
    "    numeric_columns = df.select_dtypes(include=['float64', 'int64']).columns\n",
    "    df[numeric_columns] = (df[numeric_columns] - df[numeric_columns].min()) / (df[numeric_columns].max() - df[numeric_columns].min())"
   ]
  },
  {
   "cell_type": "code",
   "execution_count": 6,
   "id": "f05796d6",
   "metadata": {
    "id": "f05796d6",
    "outputId": "0a499322-6300-468d-b871-9089909f6258"
   },
   "outputs": [
    {
     "data": {
      "text/html": [
       "<div>\n",
       "<style scoped>\n",
       "    .dataframe tbody tr th:only-of-type {\n",
       "        vertical-align: middle;\n",
       "    }\n",
       "\n",
       "    .dataframe tbody tr th {\n",
       "        vertical-align: top;\n",
       "    }\n",
       "\n",
       "    .dataframe thead th {\n",
       "        text-align: right;\n",
       "    }\n",
       "</style>\n",
       "<table border=\"1\" class=\"dataframe\">\n",
       "  <thead>\n",
       "    <tr style=\"text-align: right;\">\n",
       "      <th></th>\n",
       "      <th>x.1</th>\n",
       "      <th>x.2</th>\n",
       "      <th>x.3</th>\n",
       "      <th>x.4</th>\n",
       "      <th>x.5</th>\n",
       "    </tr>\n",
       "  </thead>\n",
       "  <tbody>\n",
       "    <tr>\n",
       "      <th>304</th>\n",
       "      <td>0.577449</td>\n",
       "      <td>0.538967</td>\n",
       "      <td>0.177132</td>\n",
       "      <td>0.807942</td>\n",
       "      <td>0.561790</td>\n",
       "    </tr>\n",
       "    <tr>\n",
       "      <th>340</th>\n",
       "      <td>0.693532</td>\n",
       "      <td>0.690496</td>\n",
       "      <td>0.588189</td>\n",
       "      <td>0.478435</td>\n",
       "      <td>0.919364</td>\n",
       "    </tr>\n",
       "    <tr>\n",
       "      <th>47</th>\n",
       "      <td>0.000000</td>\n",
       "      <td>0.590699</td>\n",
       "      <td>0.725248</td>\n",
       "      <td>0.491762</td>\n",
       "      <td>0.600817</td>\n",
       "    </tr>\n",
       "    <tr>\n",
       "      <th>67</th>\n",
       "      <td>0.828707</td>\n",
       "      <td>0.366272</td>\n",
       "      <td>0.134227</td>\n",
       "      <td>0.737205</td>\n",
       "      <td>0.155820</td>\n",
       "    </tr>\n",
       "    <tr>\n",
       "      <th>479</th>\n",
       "      <td>0.568571</td>\n",
       "      <td>0.406520</td>\n",
       "      <td>0.413673</td>\n",
       "      <td>0.993383</td>\n",
       "      <td>0.261575</td>\n",
       "    </tr>\n",
       "    <tr>\n",
       "      <th>...</th>\n",
       "      <td>...</td>\n",
       "      <td>...</td>\n",
       "      <td>...</td>\n",
       "      <td>...</td>\n",
       "      <td>...</td>\n",
       "    </tr>\n",
       "    <tr>\n",
       "      <th>331</th>\n",
       "      <td>0.796787</td>\n",
       "      <td>0.350476</td>\n",
       "      <td>0.716229</td>\n",
       "      <td>0.750751</td>\n",
       "      <td>0.400029</td>\n",
       "    </tr>\n",
       "    <tr>\n",
       "      <th>197</th>\n",
       "      <td>0.927889</td>\n",
       "      <td>0.488966</td>\n",
       "      <td>0.359376</td>\n",
       "      <td>0.604546</td>\n",
       "      <td>0.525752</td>\n",
       "    </tr>\n",
       "    <tr>\n",
       "      <th>95</th>\n",
       "      <td>0.340278</td>\n",
       "      <td>0.516512</td>\n",
       "      <td>0.425743</td>\n",
       "      <td>1.000000</td>\n",
       "      <td>0.722189</td>\n",
       "    </tr>\n",
       "    <tr>\n",
       "      <th>122</th>\n",
       "      <td>0.426319</td>\n",
       "      <td>0.525442</td>\n",
       "      <td>0.479658</td>\n",
       "      <td>0.471904</td>\n",
       "      <td>0.584641</td>\n",
       "    </tr>\n",
       "    <tr>\n",
       "      <th>23</th>\n",
       "      <td>0.693531</td>\n",
       "      <td>0.479666</td>\n",
       "      <td>0.596585</td>\n",
       "      <td>0.263494</td>\n",
       "      <td>0.147543</td>\n",
       "    </tr>\n",
       "  </tbody>\n",
       "</table>\n",
       "<p>150 rows × 5 columns</p>\n",
       "</div>"
      ],
      "text/plain": [
       "          x.1       x.2       x.3       x.4       x.5\n",
       "304  0.577449  0.538967  0.177132  0.807942  0.561790\n",
       "340  0.693532  0.690496  0.588189  0.478435  0.919364\n",
       "47   0.000000  0.590699  0.725248  0.491762  0.600817\n",
       "67   0.828707  0.366272  0.134227  0.737205  0.155820\n",
       "479  0.568571  0.406520  0.413673  0.993383  0.261575\n",
       "..        ...       ...       ...       ...       ...\n",
       "331  0.796787  0.350476  0.716229  0.750751  0.400029\n",
       "197  0.927889  0.488966  0.359376  0.604546  0.525752\n",
       "95   0.340278  0.516512  0.425743  1.000000  0.722189\n",
       "122  0.426319  0.525442  0.479658  0.471904  0.584641\n",
       "23   0.693531  0.479666  0.596585  0.263494  0.147543\n",
       "\n",
       "[150 rows x 5 columns]"
      ]
     },
     "execution_count": 6,
     "metadata": {},
     "output_type": "execute_result"
    }
   ],
   "source": [
    "X_test"
   ]
  },
  {
   "cell_type": "markdown",
   "id": "640776f0",
   "metadata": {
    "id": "640776f0"
   },
   "source": [
    "# MODELS"
   ]
  },
  {
   "cell_type": "code",
   "execution_count": 7,
   "id": "8ac3d411",
   "metadata": {
    "id": "8ac3d411",
    "outputId": "ca008a46-e725-438c-ebbe-d3f78a94a34d"
   },
   "outputs": [
    {
     "data": {
      "text/plain": [
       "0.8458310527276045"
      ]
     },
     "execution_count": 7,
     "metadata": {},
     "output_type": "execute_result"
    }
   ],
   "source": [
    "cox_lasso = CoxnetSurvivalAnalysis(l1_ratio=1, alpha_min_ratio=0.01)\n",
    "cox_lasso.fit(X_train, y_train)\n",
    "cox_lasso.score(X_test, y_test)"
   ]
  },
  {
   "cell_type": "code",
   "execution_count": 8,
   "id": "92b5c88a",
   "metadata": {
    "id": "92b5c88a",
    "outputId": "c821be79-572d-4dcd-ced7-c1e5f825edc8"
   },
   "outputs": [
    {
     "data": {
      "text/plain": [
       "0.8281335522714833"
      ]
     },
     "execution_count": 8,
     "metadata": {},
     "output_type": "execute_result"
    }
   ],
   "source": [
    "cox_ridge = CoxnetSurvivalAnalysis(l1_ratio=0.00001, alpha_min_ratio=0.01)\n",
    "cox_ridge.fit(X_train, y_train)\n",
    "cox_ridge.score(X_test, y_test)"
   ]
  },
  {
   "cell_type": "code",
   "execution_count": 9,
   "id": "4d8423c2",
   "metadata": {
    "id": "4d8423c2"
   },
   "outputs": [],
   "source": [
    "import matplotlib.pyplot as plt\n",
    "from sklearn.preprocessing import StandardScaler\n",
    "import seaborn as sns\n",
    "\n",
    "sns.set_style(\"white\")\n",
    "\n",
    "import torch # For building the networks\n",
    "import torchtuples as tt # Some useful functions\n",
    "from torch import nn\n",
    "import torch.nn.functional as F\n",
    "\n",
    "from pycox.datasets import support\n",
    "from pycox.models import DeepHitSingle\n",
    "from pycox.models import CoxPH\n",
    "from pycox.evaluation import EvalSurv\n",
    "from pycox.preprocessing.feature_transforms import OrderedCategoricalLong\n",
    "from pycox.models.loss import rank_loss_deephit_single"
   ]
  },
  {
   "cell_type": "code",
   "execution_count": 10,
   "id": "16b53b90",
   "metadata": {
    "id": "16b53b90"
   },
   "outputs": [],
   "source": [
    "data_y_transform_train = pd.DataFrame.from_records(y_train, columns=['event', 'time'])\n",
    "data_y_transform_test = pd.DataFrame.from_records(y_test, columns=['event', 'time'])\n",
    "data_y_transform_train['cens'] = data_y_transform_train['cens'].replace({True: 1, False: 0})\n",
    "data_y_transform_test['cens'] = data_y_transform_test['cens'].replace({True: 1, False: 0})\n",
    "X_train = X_train.astype('float32')\n",
    "X_test = X_test.astype('float32')\n",
    "X_train_values= X_train.values\n",
    "X_test_values= X_test.values"
   ]
  },
  {
   "cell_type": "code",
   "execution_count": 11,
   "id": "1c54b7e1",
   "metadata": {
    "id": "1c54b7e1"
   },
   "outputs": [],
   "source": [
    "num_durations = 10\n",
    "\n",
    "labtrans = DeepHitSingle.label_transform(num_durations)\n",
    "get_target = lambda df: (df['time'].values, df['cens'].values)\n",
    "y_train_deephit = labtrans.fit_transform(*get_target(data_y_transform_train))\n",
    "durations_test, events_test = get_target(data_y_transform_test)"
   ]
  },
  {
   "cell_type": "code",
   "execution_count": 12,
   "id": "ab12cd52",
   "metadata": {
    "id": "ab12cd52",
    "outputId": "a9bebdb7-82a0-433e-aa20-7409a2c4d4f1"
   },
   "outputs": [
    {
     "name": "stderr",
     "output_type": "stream",
     "text": [
      "C:\\Users\\User\\anaconda3\\lib\\site-packages\\torchtuples\\callbacks.py:607: UserWarning: This overload of add is deprecated:\n",
      "\tadd(Number alpha, Tensor other)\n",
      "Consider using one of the following signatures instead:\n",
      "\tadd(Tensor other, *, Number alpha) (Triggered internally at  ..\\torch\\csrc\\utils\\python_arg_parser.cpp:1025.)\n",
      "  p.data = p.data.add(-weight_decay * eta, p.data)\n"
     ]
    },
    {
     "name": "stdout",
     "output_type": "stream",
     "text": [
      "0:\t[0s / 0s],\t\ttrain_loss: 0.2804\n",
      "1:\t[0s / 0s],\t\ttrain_loss: 0.2747\n",
      "2:\t[0s / 1s],\t\ttrain_loss: 0.2566\n",
      "3:\t[0s / 1s],\t\ttrain_loss: 0.2521\n",
      "4:\t[0s / 1s],\t\ttrain_loss: 0.2407\n",
      "5:\t[0s / 1s],\t\ttrain_loss: 0.2281\n",
      "6:\t[0s / 1s],\t\ttrain_loss: 0.2172\n",
      "7:\t[0s / 1s],\t\ttrain_loss: 0.2120\n",
      "8:\t[0s / 1s],\t\ttrain_loss: 0.2054\n",
      "9:\t[0s / 2s],\t\ttrain_loss: 0.1853\n",
      "10:\t[0s / 2s],\t\ttrain_loss: 0.1728\n",
      "11:\t[0s / 2s],\t\ttrain_loss: 0.1643\n",
      "12:\t[0s / 2s],\t\ttrain_loss: 0.1598\n",
      "13:\t[0s / 2s],\t\ttrain_loss: 0.1545\n",
      "14:\t[0s / 2s],\t\ttrain_loss: 0.1517\n",
      "15:\t[0s / 2s],\t\ttrain_loss: 0.1512\n",
      "16:\t[0s / 3s],\t\ttrain_loss: 0.1317\n",
      "17:\t[0s / 3s],\t\ttrain_loss: 0.1309\n",
      "18:\t[0s / 3s],\t\ttrain_loss: 0.1113\n",
      "19:\t[0s / 3s],\t\ttrain_loss: 0.1000\n",
      "20:\t[0s / 3s],\t\ttrain_loss: 0.1035\n",
      "21:\t[0s / 3s],\t\ttrain_loss: 0.0877\n",
      "22:\t[0s / 3s],\t\ttrain_loss: 0.0964\n",
      "23:\t[0s / 4s],\t\ttrain_loss: 0.0817\n",
      "24:\t[0s / 4s],\t\ttrain_loss: 0.0734\n",
      "25:\t[0s / 4s],\t\ttrain_loss: 0.0766\n",
      "26:\t[0s / 4s],\t\ttrain_loss: 0.0819\n",
      "27:\t[0s / 4s],\t\ttrain_loss: 0.0729\n",
      "28:\t[0s / 4s],\t\ttrain_loss: 0.0772\n",
      "29:\t[0s / 4s],\t\ttrain_loss: 0.0725\n"
     ]
    },
    {
     "data": {
      "text/plain": [
       "0.45192483123517607"
      ]
     },
     "execution_count": 12,
     "metadata": {},
     "output_type": "execute_result"
    }
   ],
   "source": [
    "in_features = X_train.shape[1]\n",
    "out_features = labtrans.out_features\n",
    "num_nodes = [32]\n",
    "batch_norm = True\n",
    "dropout = 0.2\n",
    "\n",
    "net = tt.practical.MLPVanilla(in_features, num_nodes, out_features, batch_norm, dropout)\n",
    "optimizer = tt.optim.AdamWR(decoupled_weight_decay=0.01, cycle_eta_multiplier=0.8,\n",
    "                            cycle_multiplier=2)\n",
    "model_deep_hit = DeepHitSingle(net, optimizer, alpha = 0.2, sigma = 0.1, duration_index=labtrans.cuts)\n",
    "epochs = 30\n",
    "batch_size=8\n",
    "model_deep_hit.fit(X_train_values, y_train_deephit, batch_size, epochs)\n",
    "surv = model_deep_hit.predict_surv_df(X_test_values)\n",
    "ev = EvalSurv(surv, durations_test, events_test, censor_surv='km')\n",
    "ev.concordance_td('antolini')"
   ]
  },
  {
   "cell_type": "code",
   "execution_count": 15,
   "id": "08218960",
   "metadata": {
    "id": "08218960",
    "outputId": "78858407-27a7-43fb-8d5b-178780cb736d"
   },
   "outputs": [
    {
     "data": {
      "text/plain": [
       "0.7409231891990513"
      ]
     },
     "execution_count": 15,
     "metadata": {},
     "output_type": "execute_result"
    }
   ],
   "source": [
    "from sksurv.ensemble import RandomSurvivalForest\n",
    "rsf = RandomSurvivalForest(n_estimators=1000,\n",
    "                           min_samples_split=10,\n",
    "                           min_samples_leaf=15,\n",
    "                           n_jobs=-1,\n",
    "                           random_state=42)\n",
    "rsf.fit(X_train,y_train)\n",
    "rsf.score(X_test, y_test)"
   ]
  },
  {
   "cell_type": "code",
   "execution_count": 16,
   "id": "dda38a30",
   "metadata": {
    "id": "dda38a30",
    "outputId": "c3cd8e0d-9376-43dd-cdb1-7b4e067d98a3"
   },
   "outputs": [
    {
     "data": {
      "text/plain": [
       "0.8465608465608465"
      ]
     },
     "execution_count": 16,
     "metadata": {},
     "output_type": "execute_result"
    }
   ],
   "source": [
    "from sksurv.linear_model import CoxPHSurvivalAnalysis\n",
    "estimator = CoxPHSurvivalAnalysis().fit(X_train, y_train)\n",
    "estimator.score(X_test,y_test)"
   ]
  },
  {
   "cell_type": "code",
   "execution_count": 17,
   "id": "d3fd4e90",
   "metadata": {
    "id": "d3fd4e90",
    "outputId": "ebe69a6c-d591-4314-c30f-538aca2f9bd5"
   },
   "outputs": [
    {
     "data": {
      "text/plain": [
       "0.8461959496442255"
      ]
     },
     "execution_count": 17,
     "metadata": {},
     "output_type": "execute_result"
    }
   ],
   "source": [
    "from sksurv.linear_model import CoxnetSurvivalAnalysis\n",
    "estimator = CoxnetSurvivalAnalysis(l1_ratio=0.99, fit_baseline_model=True)\n",
    "estimator.fit(X_train, y_train)\n",
    "estimator.score(X_test, y_test)"
   ]
  },
  {
   "cell_type": "code",
   "execution_count": 18,
   "id": "34ad353d",
   "metadata": {
    "id": "34ad353d",
    "outputId": "9c3bff5c-b166-4639-b5c5-bee3d6d4fe1c"
   },
   "outputs": [
    {
     "data": {
      "text/plain": [
       "0.8202882685641306"
      ]
     },
     "execution_count": 18,
     "metadata": {},
     "output_type": "execute_result"
    }
   ],
   "source": [
    "from sksurv.ensemble import GradientBoostingSurvivalAnalysis\n",
    "est_cph_tree = GradientBoostingSurvivalAnalysis(\n",
    "    n_estimators=100, learning_rate=1.0, max_depth=1, random_state=0\n",
    ")\n",
    "est_cph_tree.fit(X_train, y_train)\n",
    "cindex = est_cph_tree.score(X_test, y_test)\n",
    "cindex"
   ]
  },
  {
   "cell_type": "code",
   "execution_count": null,
   "id": "2669ea09",
   "metadata": {
    "id": "2669ea09"
   },
   "outputs": [],
   "source": []
  },
  {
   "cell_type": "code",
   "execution_count": null,
   "id": "39e255fc",
   "metadata": {
    "id": "39e255fc"
   },
   "outputs": [],
   "source": []
  },
  {
   "cell_type": "code",
   "execution_count": 31,
   "id": "e2e147ae",
   "metadata": {
    "id": "e2e147ae"
   },
   "outputs": [],
   "source": [
    "import torch\n",
    "import torchtuples as tt\n",
    "\n",
    "from pycox.datasets import metabric\n",
    "from pycox.models import CoxPH\n",
    "from pycox.evaluation import EvalSurv"
   ]
  },
  {
   "cell_type": "code",
   "execution_count": 32,
   "id": "3ff3ed0c",
   "metadata": {
    "id": "3ff3ed0c"
   },
   "outputs": [],
   "source": [
    "get_target = lambda df: (df['time'].values, df['cens'].values)\n",
    "y_train_deepsurv = get_target(data_y_transform_train)\n",
    "durations_test, events_test = get_target(data_y_transform_test)"
   ]
  },
  {
   "cell_type": "code",
   "execution_count": 33,
   "id": "06b73e8d",
   "metadata": {
    "id": "06b73e8d"
   },
   "outputs": [],
   "source": [
    "in_features = X_train.shape[1]\n",
    "num_nodes = [64, 64]\n",
    "out_features = 1\n",
    "batch_norm = True\n",
    "dropout = 0.2\n",
    "output_bias = False\n",
    "\n",
    "net = tt.practical.MLPVanilla(in_features, num_nodes, out_features, batch_norm,\n",
    "                              dropout, output_bias=output_bias)"
   ]
  },
  {
   "cell_type": "code",
   "execution_count": 36,
   "id": "159992a3",
   "metadata": {
    "id": "159992a3",
    "outputId": "6ea8aa2e-ba86-4fbf-f6a4-431397f22ca8"
   },
   "outputs": [
    {
     "name": "stdout",
     "output_type": "stream",
     "text": [
      "0:\t[0s / 0s],\t\n",
      "1:\t[0s / 0s],\t\n",
      "2:\t[0s / 0s],\t\n",
      "3:\t[0s / 1s],\t\n",
      "4:\t[0s / 1s],\t\n",
      "5:\t[0s / 1s],\t\n",
      "6:\t[0s / 2s],\t\n",
      "7:\t[0s / 2s],\t\n",
      "8:\t[0s / 2s],\t\n",
      "9:\t[0s / 2s],\t\n"
     ]
    },
    {
     "data": {
      "text/plain": [
       "0.561758803138113"
      ]
     },
     "execution_count": 36,
     "metadata": {},
     "output_type": "execute_result"
    }
   ],
   "source": [
    "optimizer = tt.optim.AdamWR(decoupled_weight_decay=0.01, cycle_eta_multiplier=0.8,\n",
    "                            cycle_multiplier=2)\n",
    "model_deepsurv = CoxPH(net, optimizer)\n",
    "batch_size= 4\n",
    "epochs= 100\n",
    "verbose=1\n",
    "callbacks = [tt.callbacks.EarlyStopping()]\n",
    "log = model_deepsurv.fit(X_train_values, y_train_deepsurv, batch_size, epochs, callbacks, verbose)\n",
    "model_deepsurv.compute_baseline_hazards()\n",
    "surv = model_deepsurv.predict_surv_df(X_test_values)\n",
    "ev = EvalSurv(surv, durations_test, events_test, censor_surv='km')\n",
    "ev.concordance_td()"
   ]
  },
  {
   "cell_type": "code",
   "execution_count": 45,
   "id": "46e853af",
   "metadata": {
    "id": "46e853af"
   },
   "outputs": [],
   "source": [
    "from pycox.models import LogisticHazard\n",
    "# from pycox.models import PMF\n",
    "# from pycox.models import DeepHitSingle\n",
    "from pycox.evaluation import EvalSurv"
   ]
  },
  {
   "cell_type": "code",
   "execution_count": 46,
   "id": "d45c06c0",
   "metadata": {
    "id": "d45c06c0"
   },
   "outputs": [],
   "source": [
    "num_durations = 10\n",
    "\n",
    "labtrans = LogisticHazard.label_transform(num_durations)\n",
    "# labtrans = PMF.label_transform(num_durations)\n",
    "# labtrans = DeepHitSingle.label_transform(num_durations)\n",
    "\n",
    "get_target = lambda df: (df['time'].values, df['cens'].values)\n",
    "y_train_loghazard = labtrans.fit_transform(*get_target(data_y_transform_train))\n",
    "y_test_loghazard = labtrans.transform(*get_target(data_y_transform_test))\n",
    "\n",
    "\n",
    "# # We don't need to transform the test labels\n",
    "durations_test, events_test = get_target(data_y_transform_test)"
   ]
  },
  {
   "cell_type": "code",
   "execution_count": 48,
   "id": "c517150a",
   "metadata": {
    "id": "c517150a"
   },
   "outputs": [],
   "source": [
    "X_train = X_train.astype('float32')\n",
    "X_test = X_test.astype('float32')\n",
    "X_train_values= X_train.values\n",
    "X_test_values= X_test.values"
   ]
  },
  {
   "cell_type": "code",
   "execution_count": 49,
   "id": "29cae88b",
   "metadata": {
    "id": "29cae88b",
    "outputId": "93c66687-983b-4bde-9f60-b07c4bde3e5f"
   },
   "outputs": [
    {
     "name": "stdout",
     "output_type": "stream",
     "text": [
      "0:\t[0s / 0s],\t\ttrain_loss: 0.9839\n",
      "1:\t[0s / 0s],\t\ttrain_loss: 0.6826\n",
      "2:\t[0s / 0s],\t\ttrain_loss: 0.3399\n",
      "3:\t[0s / 0s],\t\ttrain_loss: 0.1622\n",
      "4:\t[0s / 0s],\t\ttrain_loss: 0.1052\n",
      "5:\t[0s / 0s],\t\ttrain_loss: 0.0809\n",
      "6:\t[0s / 0s],\t\ttrain_loss: 0.0671\n",
      "7:\t[0s / 0s],\t\ttrain_loss: 0.0549\n",
      "8:\t[0s / 0s],\t\ttrain_loss: 0.0620\n",
      "9:\t[0s / 0s],\t\ttrain_loss: 0.0716\n"
     ]
    },
    {
     "data": {
      "text/plain": [
       "0.5088487502280605"
      ]
     },
     "execution_count": 49,
     "metadata": {},
     "output_type": "execute_result"
    }
   ],
   "source": [
    "in_features = X_train.shape[1]\n",
    "num_nodes = [32, 32]\n",
    "out_features = labtrans.out_features\n",
    "batch_norm = True\n",
    "dropout = 0.1\n",
    "net = tt.practical.MLPVanilla(in_features, num_nodes, out_features, batch_norm, dropout)\n",
    "model = LogisticHazard(net, tt.optim.Adam(0.01), duration_index=labtrans.cuts)\n",
    "batch_size = 32\n",
    "epochs = 10\n",
    "log= model.fit(X_train_values, y_train_loghazard, batch_size, epochs)\n",
    "surv = model.predict_surv_df(X_test_values)\n",
    "ev = EvalSurv(surv, durations_test, events_test, censor_surv='km')\n",
    "ev.concordance_td('antolini')"
   ]
  },
  {
   "cell_type": "code",
   "execution_count": 50,
   "id": "9fb6f9ab",
   "metadata": {
    "id": "9fb6f9ab",
    "outputId": "60cf9698-56d3-4e00-96da-2fc7b8472e25"
   },
   "outputs": [
    {
     "name": "stdout",
     "output_type": "stream",
     "text": [
      "Concordance Index: 0.7456668491151249\n"
     ]
    }
   ],
   "source": [
    "cox= CoxnetSurvivalAnalysis()\n",
    "rsf = RandomSurvivalForest(n_estimators=1000,\n",
    "                           min_samples_split=10,\n",
    "                           min_samples_leaf=15,\n",
    "                           random_state=42)\n",
    "cox.fit(X_train_values, y_train)\n",
    "rsf.fit(X_train_values, y_train)\n",
    "cox_pred = cox.predict(X_test_values)\n",
    "rsf_pred = rsf.predict(X_test_values)\n",
    "ensemble_pred= (cox_pred+rsf_pred)/2\n",
    "from sksurv.metrics import concordance_index_censored\n",
    "cindex = concordance_index_censored(y_test[\"cens\"], y_test[\"time\"], ensemble_pred)\n",
    "print(\"Concordance Index:\", cindex[0])"
   ]
  },
  {
   "cell_type": "code",
   "execution_count": 51,
   "id": "1eec45dc",
   "metadata": {
    "id": "1eec45dc",
    "outputId": "605bd202-9980-48ed-f4d9-cd6b7262a96c"
   },
   "outputs": [
    {
     "name": "stdout",
     "output_type": "stream",
     "text": [
      "Concordance Index: 0.7409231891990513\n"
     ]
    },
    {
     "name": "stderr",
     "output_type": "stream",
     "text": [
      "C:\\Users\\User\\anaconda3\\lib\\site-packages\\sklearn\\base.py:439: UserWarning: X does not have valid feature names, but CoxnetSurvivalAnalysis was fitted with feature names\n",
      "  warnings.warn(\n"
     ]
    }
   ],
   "source": [
    "cox= CoxPHSurvivalAnalysis()\n",
    "rsf = RandomSurvivalForest(n_estimators=1000,\n",
    "                           min_samples_split=10,\n",
    "                           min_samples_leaf=15,\n",
    "                           random_state=42)\n",
    "cox_lasso = CoxnetSurvivalAnalysis(l1_ratio=1, alpha_min_ratio=0.01)\n",
    "cox_lasso.fit(X_train, y_train)\n",
    "cox.fit(X_train_values, y_train)\n",
    "rsf.fit(X_train_values, y_train)\n",
    "lasso_predict = cox_lasso.predict(X_test_values)\n",
    "cox_pred = cox.predict(X_test_values)\n",
    "rsf_pred = rsf.predict(X_test_values)\n",
    "ensemble_pred = np.maximum(cox_pred, rsf_pred, lasso_predict)\n",
    "from sksurv.metrics import concordance_index_censored\n",
    "cindex = concordance_index_censored(y_test[\"cens\"], y_test[\"time\"], ensemble_pred)\n",
    "print(\"Concordance Index:\", cindex[0])"
   ]
  },
  {
   "cell_type": "code",
   "execution_count": null,
   "id": "7cfb80b1",
   "metadata": {
    "id": "7cfb80b1"
   },
   "outputs": [],
   "source": []
  }
 ],
 "metadata": {
  "colab": {
   "provenance": []
  },
  "kernelspec": {
   "display_name": "Python 3 (ipykernel)",
   "language": "python",
   "name": "python3"
  },
  "language_info": {
   "codemirror_mode": {
    "name": "ipython",
    "version": 3
   },
   "file_extension": ".py",
   "mimetype": "text/x-python",
   "name": "python",
   "nbconvert_exporter": "python",
   "pygments_lexer": "ipython3",
   "version": "3.9.13"
  }
 },
 "nbformat": 4,
 "nbformat_minor": 5
}
