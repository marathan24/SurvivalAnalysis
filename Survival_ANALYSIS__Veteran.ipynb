{
 "cells": [
  {
   "cell_type": "code",
   "execution_count": 1,
   "id": "023ea80a",
   "metadata": {
    "id": "023ea80a"
   },
   "outputs": [],
   "source": [
    "import numpy as np\n",
    "import pandas as pd\n",
    "from sklearn.model_selection import train_test_split\n",
    "from sklearn.tree import DecisionTreeClassifier\n",
    "from sklearn.preprocessing import MinMaxScaler\n",
    "import torch\n",
    "from sklearn.metrics import accuracy_score\n",
    "import torch\n",
    "import torch.nn as nn\n",
    "import torch.optim as optim\n",
    "from torch.utils.data import DataLoader, TensorDataset\n",
    "import math\n",
    "from sklearn.model_selection import train_test_split,cross_val_score,KFold,StratifiedKFold\n",
    "import torchtuples as tt"
   ]
  },
  {
   "cell_type": "code",
   "execution_count": 2,
   "id": "e38f06fc",
   "metadata": {
    "id": "e38f06fc"
   },
   "outputs": [],
   "source": [
    "from sksurv.linear_model import CoxPHSurvivalAnalysis, CoxnetSurvivalAnalysis\n",
    "from sksurv.preprocessing import OneHotEncoder, encode_categorical\n",
    "\n",
    "from sklearn import set_config\n",
    "from sklearn.model_selection import GridSearchCV, KFold\n",
    "from sklearn.pipeline import make_pipeline\n",
    "from sklearn.preprocessing import StandardScaler"
   ]
  },
  {
   "cell_type": "code",
   "execution_count": 3,
   "id": "4bc81497",
   "metadata": {
    "id": "4bc81497",
    "outputId": "7091c35d-629c-455a-cd68-228fa057cf7c"
   },
   "outputs": [
    {
     "data": {
      "text/html": [
       "<div>\n",
       "<style scoped>\n",
       "    .dataframe tbody tr th:only-of-type {\n",
       "        vertical-align: middle;\n",
       "    }\n",
       "\n",
       "    .dataframe tbody tr th {\n",
       "        vertical-align: top;\n",
       "    }\n",
       "\n",
       "    .dataframe thead th {\n",
       "        text-align: right;\n",
       "    }\n",
       "</style>\n",
       "<table border=\"1\" class=\"dataframe\">\n",
       "  <thead>\n",
       "    <tr style=\"text-align: right;\">\n",
       "      <th></th>\n",
       "      <th>trt</th>\n",
       "      <th>celltype</th>\n",
       "      <th>time</th>\n",
       "      <th>status</th>\n",
       "      <th>karno</th>\n",
       "      <th>diagtime</th>\n",
       "      <th>age</th>\n",
       "      <th>prior</th>\n",
       "    </tr>\n",
       "  </thead>\n",
       "  <tbody>\n",
       "    <tr>\n",
       "      <th>0</th>\n",
       "      <td>1</td>\n",
       "      <td>squamous</td>\n",
       "      <td>72</td>\n",
       "      <td>1</td>\n",
       "      <td>60</td>\n",
       "      <td>7</td>\n",
       "      <td>69</td>\n",
       "      <td>0</td>\n",
       "    </tr>\n",
       "    <tr>\n",
       "      <th>1</th>\n",
       "      <td>1</td>\n",
       "      <td>squamous</td>\n",
       "      <td>411</td>\n",
       "      <td>1</td>\n",
       "      <td>70</td>\n",
       "      <td>5</td>\n",
       "      <td>64</td>\n",
       "      <td>10</td>\n",
       "    </tr>\n",
       "    <tr>\n",
       "      <th>2</th>\n",
       "      <td>1</td>\n",
       "      <td>squamous</td>\n",
       "      <td>228</td>\n",
       "      <td>1</td>\n",
       "      <td>60</td>\n",
       "      <td>3</td>\n",
       "      <td>38</td>\n",
       "      <td>0</td>\n",
       "    </tr>\n",
       "    <tr>\n",
       "      <th>3</th>\n",
       "      <td>1</td>\n",
       "      <td>squamous</td>\n",
       "      <td>126</td>\n",
       "      <td>1</td>\n",
       "      <td>60</td>\n",
       "      <td>9</td>\n",
       "      <td>63</td>\n",
       "      <td>10</td>\n",
       "    </tr>\n",
       "    <tr>\n",
       "      <th>4</th>\n",
       "      <td>1</td>\n",
       "      <td>squamous</td>\n",
       "      <td>118</td>\n",
       "      <td>1</td>\n",
       "      <td>70</td>\n",
       "      <td>11</td>\n",
       "      <td>65</td>\n",
       "      <td>10</td>\n",
       "    </tr>\n",
       "    <tr>\n",
       "      <th>...</th>\n",
       "      <td>...</td>\n",
       "      <td>...</td>\n",
       "      <td>...</td>\n",
       "      <td>...</td>\n",
       "      <td>...</td>\n",
       "      <td>...</td>\n",
       "      <td>...</td>\n",
       "      <td>...</td>\n",
       "    </tr>\n",
       "    <tr>\n",
       "      <th>132</th>\n",
       "      <td>2</td>\n",
       "      <td>large</td>\n",
       "      <td>133</td>\n",
       "      <td>1</td>\n",
       "      <td>75</td>\n",
       "      <td>1</td>\n",
       "      <td>65</td>\n",
       "      <td>0</td>\n",
       "    </tr>\n",
       "    <tr>\n",
       "      <th>133</th>\n",
       "      <td>2</td>\n",
       "      <td>large</td>\n",
       "      <td>111</td>\n",
       "      <td>1</td>\n",
       "      <td>60</td>\n",
       "      <td>5</td>\n",
       "      <td>64</td>\n",
       "      <td>0</td>\n",
       "    </tr>\n",
       "    <tr>\n",
       "      <th>134</th>\n",
       "      <td>2</td>\n",
       "      <td>large</td>\n",
       "      <td>231</td>\n",
       "      <td>1</td>\n",
       "      <td>70</td>\n",
       "      <td>18</td>\n",
       "      <td>67</td>\n",
       "      <td>10</td>\n",
       "    </tr>\n",
       "    <tr>\n",
       "      <th>135</th>\n",
       "      <td>2</td>\n",
       "      <td>large</td>\n",
       "      <td>378</td>\n",
       "      <td>1</td>\n",
       "      <td>80</td>\n",
       "      <td>4</td>\n",
       "      <td>65</td>\n",
       "      <td>0</td>\n",
       "    </tr>\n",
       "    <tr>\n",
       "      <th>136</th>\n",
       "      <td>2</td>\n",
       "      <td>large</td>\n",
       "      <td>49</td>\n",
       "      <td>1</td>\n",
       "      <td>30</td>\n",
       "      <td>3</td>\n",
       "      <td>37</td>\n",
       "      <td>0</td>\n",
       "    </tr>\n",
       "  </tbody>\n",
       "</table>\n",
       "<p>137 rows × 8 columns</p>\n",
       "</div>"
      ],
      "text/plain": [
       "     trt  celltype  time  status  karno  diagtime  age  prior\n",
       "0      1  squamous    72       1     60         7   69      0\n",
       "1      1  squamous   411       1     70         5   64     10\n",
       "2      1  squamous   228       1     60         3   38      0\n",
       "3      1  squamous   126       1     60         9   63     10\n",
       "4      1  squamous   118       1     70        11   65     10\n",
       "..   ...       ...   ...     ...    ...       ...  ...    ...\n",
       "132    2     large   133       1     75         1   65      0\n",
       "133    2     large   111       1     60         5   64      0\n",
       "134    2     large   231       1     70        18   67     10\n",
       "135    2     large   378       1     80         4   65      0\n",
       "136    2     large    49       1     30         3   37      0\n",
       "\n",
       "[137 rows x 8 columns]"
      ]
     },
     "execution_count": 3,
     "metadata": {},
     "output_type": "execute_result"
    }
   ],
   "source": [
    "datas = pd.read_csv('veteran.csv')\n",
    "datas"
   ]
  },
  {
   "cell_type": "code",
   "execution_count": 4,
   "id": "a20ae016",
   "metadata": {
    "id": "a20ae016"
   },
   "outputs": [],
   "source": [
    "data_y = datas.loc[:, ['time', 'status']].copy()\n",
    "data_y = data_y.rename(columns={'status': 'cens'})\n",
    "data_x = datas.drop(['time', 'status'], axis=1)\n",
    "\n",
    "data_x['celltype'] = data_x['celltype'].astype('category')\n",
    "data_x = OneHotEncoder().fit_transform(data_x)\n",
    "X_train, X_test, y_train, y_test = train_test_split(data_x, data_y, test_size=0.3, random_state=1)\n",
    "list_of_tuples = list(y_train.itertuples(index=False, name=None))\n",
    "swapped_list = [(t[1], t[0]) for t in list_of_tuples]\n",
    "y_train = np.array(swapped_list, dtype=[('cens', bool), ('time', float)])\n",
    "list_of_tuples = list(y_test.itertuples(index=False, name=None))\n",
    "swapped_list = [(t[1], t[0]) for t in list_of_tuples]\n",
    "y_test = np.array(swapped_list, dtype=[('cens', bool), ('time', float)])"
   ]
  },
  {
   "cell_type": "code",
   "execution_count": 5,
   "id": "6715b7b9",
   "metadata": {
    "id": "6715b7b9"
   },
   "outputs": [],
   "source": [
    "for df in [X_train, X_test]:\n",
    "    numeric_columns = df.select_dtypes(include=['float64', 'int64']).columns\n",
    "    df[numeric_columns] = (df[numeric_columns] - df[numeric_columns].min()) / (df[numeric_columns].max() - df[numeric_columns].min())"
   ]
  },
  {
   "cell_type": "code",
   "execution_count": 6,
   "id": "f05796d6",
   "metadata": {
    "id": "f05796d6",
    "outputId": "0a499322-6300-468d-b871-9089909f6258"
   },
   "outputs": [
    {
     "data": {
      "text/html": [
       "<div>\n",
       "<style scoped>\n",
       "    .dataframe tbody tr th:only-of-type {\n",
       "        vertical-align: middle;\n",
       "    }\n",
       "\n",
       "    .dataframe tbody tr th {\n",
       "        vertical-align: top;\n",
       "    }\n",
       "\n",
       "    .dataframe thead th {\n",
       "        text-align: right;\n",
       "    }\n",
       "</style>\n",
       "<table border=\"1\" class=\"dataframe\">\n",
       "  <thead>\n",
       "    <tr style=\"text-align: right;\">\n",
       "      <th></th>\n",
       "      <th>trt</th>\n",
       "      <th>celltype=large</th>\n",
       "      <th>celltype=smallcell</th>\n",
       "      <th>celltype=squamous</th>\n",
       "      <th>karno</th>\n",
       "      <th>diagtime</th>\n",
       "      <th>age</th>\n",
       "      <th>prior</th>\n",
       "    </tr>\n",
       "  </thead>\n",
       "  <tbody>\n",
       "    <tr>\n",
       "      <th>80</th>\n",
       "      <td>1.0</td>\n",
       "      <td>0.0</td>\n",
       "      <td>0.0</td>\n",
       "      <td>1.0</td>\n",
       "      <td>0.000000</td>\n",
       "      <td>1.000000</td>\n",
       "      <td>0.805556</td>\n",
       "      <td>0.0</td>\n",
       "    </tr>\n",
       "    <tr>\n",
       "      <th>5</th>\n",
       "      <td>0.0</td>\n",
       "      <td>0.0</td>\n",
       "      <td>0.0</td>\n",
       "      <td>1.0</td>\n",
       "      <td>0.000000</td>\n",
       "      <td>0.114286</td>\n",
       "      <td>0.416667</td>\n",
       "      <td>0.0</td>\n",
       "    </tr>\n",
       "    <tr>\n",
       "      <th>39</th>\n",
       "      <td>0.0</td>\n",
       "      <td>0.0</td>\n",
       "      <td>1.0</td>\n",
       "      <td>0.0</td>\n",
       "      <td>0.506329</td>\n",
       "      <td>0.200000</td>\n",
       "      <td>0.777778</td>\n",
       "      <td>0.0</td>\n",
       "    </tr>\n",
       "    <tr>\n",
       "      <th>36</th>\n",
       "      <td>0.0</td>\n",
       "      <td>0.0</td>\n",
       "      <td>1.0</td>\n",
       "      <td>0.0</td>\n",
       "      <td>0.126582</td>\n",
       "      <td>0.085714</td>\n",
       "      <td>0.722222</td>\n",
       "      <td>0.0</td>\n",
       "    </tr>\n",
       "    <tr>\n",
       "      <th>35</th>\n",
       "      <td>0.0</td>\n",
       "      <td>0.0</td>\n",
       "      <td>1.0</td>\n",
       "      <td>0.0</td>\n",
       "      <td>0.506329</td>\n",
       "      <td>0.685714</td>\n",
       "      <td>0.888889</td>\n",
       "      <td>1.0</td>\n",
       "    </tr>\n",
       "    <tr>\n",
       "      <th>58</th>\n",
       "      <td>0.0</td>\n",
       "      <td>1.0</td>\n",
       "      <td>0.0</td>\n",
       "      <td>0.0</td>\n",
       "      <td>0.506329</td>\n",
       "      <td>0.314286</td>\n",
       "      <td>0.805556</td>\n",
       "      <td>0.0</td>\n",
       "    </tr>\n",
       "    <tr>\n",
       "      <th>44</th>\n",
       "      <td>0.0</td>\n",
       "      <td>0.0</td>\n",
       "      <td>1.0</td>\n",
       "      <td>0.0</td>\n",
       "      <td>0.253165</td>\n",
       "      <td>0.628571</td>\n",
       "      <td>0.916667</td>\n",
       "      <td>1.0</td>\n",
       "    </tr>\n",
       "    <tr>\n",
       "      <th>77</th>\n",
       "      <td>1.0</td>\n",
       "      <td>0.0</td>\n",
       "      <td>0.0</td>\n",
       "      <td>1.0</td>\n",
       "      <td>0.506329</td>\n",
       "      <td>0.057143</td>\n",
       "      <td>0.666667</td>\n",
       "      <td>0.0</td>\n",
       "    </tr>\n",
       "    <tr>\n",
       "      <th>120</th>\n",
       "      <td>1.0</td>\n",
       "      <td>0.0</td>\n",
       "      <td>0.0</td>\n",
       "      <td>0.0</td>\n",
       "      <td>0.886076</td>\n",
       "      <td>0.057143</td>\n",
       "      <td>0.722222</td>\n",
       "      <td>0.0</td>\n",
       "    </tr>\n",
       "    <tr>\n",
       "      <th>119</th>\n",
       "      <td>1.0</td>\n",
       "      <td>0.0</td>\n",
       "      <td>0.0</td>\n",
       "      <td>0.0</td>\n",
       "      <td>0.632911</td>\n",
       "      <td>0.057143</td>\n",
       "      <td>0.805556</td>\n",
       "      <td>0.0</td>\n",
       "    </tr>\n",
       "    <tr>\n",
       "      <th>19</th>\n",
       "      <td>0.0</td>\n",
       "      <td>0.0</td>\n",
       "      <td>1.0</td>\n",
       "      <td>0.0</td>\n",
       "      <td>0.506329</td>\n",
       "      <td>0.085714</td>\n",
       "      <td>0.611111</td>\n",
       "      <td>0.0</td>\n",
       "    </tr>\n",
       "    <tr>\n",
       "      <th>92</th>\n",
       "      <td>1.0</td>\n",
       "      <td>0.0</td>\n",
       "      <td>1.0</td>\n",
       "      <td>0.0</td>\n",
       "      <td>0.126582</td>\n",
       "      <td>0.028571</td>\n",
       "      <td>0.777778</td>\n",
       "      <td>0.0</td>\n",
       "    </tr>\n",
       "    <tr>\n",
       "      <th>121</th>\n",
       "      <td>1.0</td>\n",
       "      <td>0.0</td>\n",
       "      <td>0.0</td>\n",
       "      <td>0.0</td>\n",
       "      <td>0.759494</td>\n",
       "      <td>0.085714</td>\n",
       "      <td>0.777778</td>\n",
       "      <td>1.0</td>\n",
       "    </tr>\n",
       "    <tr>\n",
       "      <th>17</th>\n",
       "      <td>0.0</td>\n",
       "      <td>0.0</td>\n",
       "      <td>1.0</td>\n",
       "      <td>0.0</td>\n",
       "      <td>0.253165</td>\n",
       "      <td>0.028571</td>\n",
       "      <td>0.027778</td>\n",
       "      <td>0.0</td>\n",
       "    </tr>\n",
       "    <tr>\n",
       "      <th>31</th>\n",
       "      <td>0.0</td>\n",
       "      <td>0.0</td>\n",
       "      <td>1.0</td>\n",
       "      <td>0.0</td>\n",
       "      <td>0.759494</td>\n",
       "      <td>0.028571</td>\n",
       "      <td>0.833333</td>\n",
       "      <td>0.0</td>\n",
       "    </tr>\n",
       "    <tr>\n",
       "      <th>90</th>\n",
       "      <td>1.0</td>\n",
       "      <td>0.0</td>\n",
       "      <td>1.0</td>\n",
       "      <td>0.0</td>\n",
       "      <td>0.632911</td>\n",
       "      <td>0.600000</td>\n",
       "      <td>0.055556</td>\n",
       "      <td>1.0</td>\n",
       "    </tr>\n",
       "    <tr>\n",
       "      <th>48</th>\n",
       "      <td>0.0</td>\n",
       "      <td>0.0</td>\n",
       "      <td>0.0</td>\n",
       "      <td>0.0</td>\n",
       "      <td>0.759494</td>\n",
       "      <td>0.028571</td>\n",
       "      <td>0.111111</td>\n",
       "      <td>0.0</td>\n",
       "    </tr>\n",
       "    <tr>\n",
       "      <th>53</th>\n",
       "      <td>0.0</td>\n",
       "      <td>0.0</td>\n",
       "      <td>0.0</td>\n",
       "      <td>0.0</td>\n",
       "      <td>0.759494</td>\n",
       "      <td>0.085714</td>\n",
       "      <td>0.000000</td>\n",
       "      <td>0.0</td>\n",
       "    </tr>\n",
       "    <tr>\n",
       "      <th>65</th>\n",
       "      <td>0.0</td>\n",
       "      <td>1.0</td>\n",
       "      <td>0.0</td>\n",
       "      <td>0.0</td>\n",
       "      <td>0.759494</td>\n",
       "      <td>0.285714</td>\n",
       "      <td>0.888889</td>\n",
       "      <td>0.0</td>\n",
       "    </tr>\n",
       "    <tr>\n",
       "      <th>83</th>\n",
       "      <td>1.0</td>\n",
       "      <td>0.0</td>\n",
       "      <td>0.0</td>\n",
       "      <td>1.0</td>\n",
       "      <td>0.759494</td>\n",
       "      <td>0.771429</td>\n",
       "      <td>0.500000</td>\n",
       "      <td>1.0</td>\n",
       "    </tr>\n",
       "    <tr>\n",
       "      <th>127</th>\n",
       "      <td>1.0</td>\n",
       "      <td>1.0</td>\n",
       "      <td>0.0</td>\n",
       "      <td>0.0</td>\n",
       "      <td>0.126582</td>\n",
       "      <td>0.085714</td>\n",
       "      <td>0.138889</td>\n",
       "      <td>1.0</td>\n",
       "    </tr>\n",
       "    <tr>\n",
       "      <th>16</th>\n",
       "      <td>0.0</td>\n",
       "      <td>0.0</td>\n",
       "      <td>1.0</td>\n",
       "      <td>0.0</td>\n",
       "      <td>0.506329</td>\n",
       "      <td>0.228571</td>\n",
       "      <td>0.222222</td>\n",
       "      <td>0.0</td>\n",
       "    </tr>\n",
       "    <tr>\n",
       "      <th>73</th>\n",
       "      <td>1.0</td>\n",
       "      <td>0.0</td>\n",
       "      <td>0.0</td>\n",
       "      <td>1.0</td>\n",
       "      <td>0.379747</td>\n",
       "      <td>0.000000</td>\n",
       "      <td>1.000000</td>\n",
       "      <td>0.0</td>\n",
       "    </tr>\n",
       "    <tr>\n",
       "      <th>97</th>\n",
       "      <td>1.0</td>\n",
       "      <td>0.0</td>\n",
       "      <td>1.0</td>\n",
       "      <td>0.0</td>\n",
       "      <td>0.506329</td>\n",
       "      <td>0.200000</td>\n",
       "      <td>0.416667</td>\n",
       "      <td>0.0</td>\n",
       "    </tr>\n",
       "    <tr>\n",
       "      <th>55</th>\n",
       "      <td>0.0</td>\n",
       "      <td>1.0</td>\n",
       "      <td>0.0</td>\n",
       "      <td>0.0</td>\n",
       "      <td>0.759494</td>\n",
       "      <td>0.114286</td>\n",
       "      <td>0.777778</td>\n",
       "      <td>0.0</td>\n",
       "    </tr>\n",
       "    <tr>\n",
       "      <th>33</th>\n",
       "      <td>0.0</td>\n",
       "      <td>0.0</td>\n",
       "      <td>1.0</td>\n",
       "      <td>0.0</td>\n",
       "      <td>0.696203</td>\n",
       "      <td>0.057143</td>\n",
       "      <td>0.861111</td>\n",
       "      <td>0.0</td>\n",
       "    </tr>\n",
       "    <tr>\n",
       "      <th>4</th>\n",
       "      <td>0.0</td>\n",
       "      <td>0.0</td>\n",
       "      <td>0.0</td>\n",
       "      <td>1.0</td>\n",
       "      <td>0.632911</td>\n",
       "      <td>0.285714</td>\n",
       "      <td>0.861111</td>\n",
       "      <td>1.0</td>\n",
       "    </tr>\n",
       "    <tr>\n",
       "      <th>132</th>\n",
       "      <td>1.0</td>\n",
       "      <td>1.0</td>\n",
       "      <td>0.0</td>\n",
       "      <td>0.0</td>\n",
       "      <td>0.696203</td>\n",
       "      <td>0.000000</td>\n",
       "      <td>0.861111</td>\n",
       "      <td>0.0</td>\n",
       "    </tr>\n",
       "    <tr>\n",
       "      <th>93</th>\n",
       "      <td>1.0</td>\n",
       "      <td>0.0</td>\n",
       "      <td>1.0</td>\n",
       "      <td>0.0</td>\n",
       "      <td>0.506329</td>\n",
       "      <td>0.028571</td>\n",
       "      <td>0.722222</td>\n",
       "      <td>0.0</td>\n",
       "    </tr>\n",
       "    <tr>\n",
       "      <th>66</th>\n",
       "      <td>0.0</td>\n",
       "      <td>1.0</td>\n",
       "      <td>0.0</td>\n",
       "      <td>0.0</td>\n",
       "      <td>0.759494</td>\n",
       "      <td>0.114286</td>\n",
       "      <td>0.111111</td>\n",
       "      <td>0.0</td>\n",
       "    </tr>\n",
       "    <tr>\n",
       "      <th>109</th>\n",
       "      <td>1.0</td>\n",
       "      <td>0.0</td>\n",
       "      <td>0.0</td>\n",
       "      <td>0.0</td>\n",
       "      <td>1.000000</td>\n",
       "      <td>0.057143</td>\n",
       "      <td>0.638889</td>\n",
       "      <td>0.0</td>\n",
       "    </tr>\n",
       "    <tr>\n",
       "      <th>123</th>\n",
       "      <td>1.0</td>\n",
       "      <td>0.0</td>\n",
       "      <td>0.0</td>\n",
       "      <td>0.0</td>\n",
       "      <td>0.253165</td>\n",
       "      <td>0.057143</td>\n",
       "      <td>0.972222</td>\n",
       "      <td>0.0</td>\n",
       "    </tr>\n",
       "    <tr>\n",
       "      <th>42</th>\n",
       "      <td>0.0</td>\n",
       "      <td>0.0</td>\n",
       "      <td>1.0</td>\n",
       "      <td>0.0</td>\n",
       "      <td>0.379747</td>\n",
       "      <td>0.285714</td>\n",
       "      <td>0.388889</td>\n",
       "      <td>0.0</td>\n",
       "    </tr>\n",
       "    <tr>\n",
       "      <th>54</th>\n",
       "      <td>0.0</td>\n",
       "      <td>1.0</td>\n",
       "      <td>0.0</td>\n",
       "      <td>0.0</td>\n",
       "      <td>0.379747</td>\n",
       "      <td>0.428571</td>\n",
       "      <td>0.888889</td>\n",
       "      <td>1.0</td>\n",
       "    </tr>\n",
       "    <tr>\n",
       "      <th>125</th>\n",
       "      <td>1.0</td>\n",
       "      <td>1.0</td>\n",
       "      <td>0.0</td>\n",
       "      <td>0.0</td>\n",
       "      <td>0.506329</td>\n",
       "      <td>0.085714</td>\n",
       "      <td>0.305556</td>\n",
       "      <td>0.0</td>\n",
       "    </tr>\n",
       "    <tr>\n",
       "      <th>40</th>\n",
       "      <td>0.0</td>\n",
       "      <td>0.0</td>\n",
       "      <td>1.0</td>\n",
       "      <td>0.0</td>\n",
       "      <td>0.632911</td>\n",
       "      <td>0.000000</td>\n",
       "      <td>0.916667</td>\n",
       "      <td>0.0</td>\n",
       "    </tr>\n",
       "    <tr>\n",
       "      <th>69</th>\n",
       "      <td>1.0</td>\n",
       "      <td>0.0</td>\n",
       "      <td>0.0</td>\n",
       "      <td>1.0</td>\n",
       "      <td>0.886076</td>\n",
       "      <td>0.314286</td>\n",
       "      <td>0.555556</td>\n",
       "      <td>1.0</td>\n",
       "    </tr>\n",
       "    <tr>\n",
       "      <th>12</th>\n",
       "      <td>0.0</td>\n",
       "      <td>0.0</td>\n",
       "      <td>0.0</td>\n",
       "      <td>1.0</td>\n",
       "      <td>0.126582</td>\n",
       "      <td>0.085714</td>\n",
       "      <td>0.805556</td>\n",
       "      <td>0.0</td>\n",
       "    </tr>\n",
       "    <tr>\n",
       "      <th>2</th>\n",
       "      <td>0.0</td>\n",
       "      <td>0.0</td>\n",
       "      <td>0.0</td>\n",
       "      <td>1.0</td>\n",
       "      <td>0.506329</td>\n",
       "      <td>0.057143</td>\n",
       "      <td>0.111111</td>\n",
       "      <td>0.0</td>\n",
       "    </tr>\n",
       "    <tr>\n",
       "      <th>134</th>\n",
       "      <td>1.0</td>\n",
       "      <td>1.0</td>\n",
       "      <td>0.0</td>\n",
       "      <td>0.0</td>\n",
       "      <td>0.632911</td>\n",
       "      <td>0.485714</td>\n",
       "      <td>0.916667</td>\n",
       "      <td>1.0</td>\n",
       "    </tr>\n",
       "    <tr>\n",
       "      <th>89</th>\n",
       "      <td>1.0</td>\n",
       "      <td>0.0</td>\n",
       "      <td>1.0</td>\n",
       "      <td>0.0</td>\n",
       "      <td>0.126582</td>\n",
       "      <td>0.028571</td>\n",
       "      <td>0.972222</td>\n",
       "      <td>0.0</td>\n",
       "    </tr>\n",
       "    <tr>\n",
       "      <th>6</th>\n",
       "      <td>0.0</td>\n",
       "      <td>0.0</td>\n",
       "      <td>0.0</td>\n",
       "      <td>1.0</td>\n",
       "      <td>0.253165</td>\n",
       "      <td>0.257143</td>\n",
       "      <td>0.972222</td>\n",
       "      <td>1.0</td>\n",
       "    </tr>\n",
       "  </tbody>\n",
       "</table>\n",
       "</div>"
      ],
      "text/plain": [
       "     trt  celltype=large  celltype=smallcell  celltype=squamous     karno  \\\n",
       "80   1.0             0.0                 0.0                1.0  0.000000   \n",
       "5    0.0             0.0                 0.0                1.0  0.000000   \n",
       "39   0.0             0.0                 1.0                0.0  0.506329   \n",
       "36   0.0             0.0                 1.0                0.0  0.126582   \n",
       "35   0.0             0.0                 1.0                0.0  0.506329   \n",
       "58   0.0             1.0                 0.0                0.0  0.506329   \n",
       "44   0.0             0.0                 1.0                0.0  0.253165   \n",
       "77   1.0             0.0                 0.0                1.0  0.506329   \n",
       "120  1.0             0.0                 0.0                0.0  0.886076   \n",
       "119  1.0             0.0                 0.0                0.0  0.632911   \n",
       "19   0.0             0.0                 1.0                0.0  0.506329   \n",
       "92   1.0             0.0                 1.0                0.0  0.126582   \n",
       "121  1.0             0.0                 0.0                0.0  0.759494   \n",
       "17   0.0             0.0                 1.0                0.0  0.253165   \n",
       "31   0.0             0.0                 1.0                0.0  0.759494   \n",
       "90   1.0             0.0                 1.0                0.0  0.632911   \n",
       "48   0.0             0.0                 0.0                0.0  0.759494   \n",
       "53   0.0             0.0                 0.0                0.0  0.759494   \n",
       "65   0.0             1.0                 0.0                0.0  0.759494   \n",
       "83   1.0             0.0                 0.0                1.0  0.759494   \n",
       "127  1.0             1.0                 0.0                0.0  0.126582   \n",
       "16   0.0             0.0                 1.0                0.0  0.506329   \n",
       "73   1.0             0.0                 0.0                1.0  0.379747   \n",
       "97   1.0             0.0                 1.0                0.0  0.506329   \n",
       "55   0.0             1.0                 0.0                0.0  0.759494   \n",
       "33   0.0             0.0                 1.0                0.0  0.696203   \n",
       "4    0.0             0.0                 0.0                1.0  0.632911   \n",
       "132  1.0             1.0                 0.0                0.0  0.696203   \n",
       "93   1.0             0.0                 1.0                0.0  0.506329   \n",
       "66   0.0             1.0                 0.0                0.0  0.759494   \n",
       "109  1.0             0.0                 0.0                0.0  1.000000   \n",
       "123  1.0             0.0                 0.0                0.0  0.253165   \n",
       "42   0.0             0.0                 1.0                0.0  0.379747   \n",
       "54   0.0             1.0                 0.0                0.0  0.379747   \n",
       "125  1.0             1.0                 0.0                0.0  0.506329   \n",
       "40   0.0             0.0                 1.0                0.0  0.632911   \n",
       "69   1.0             0.0                 0.0                1.0  0.886076   \n",
       "12   0.0             0.0                 0.0                1.0  0.126582   \n",
       "2    0.0             0.0                 0.0                1.0  0.506329   \n",
       "134  1.0             1.0                 0.0                0.0  0.632911   \n",
       "89   1.0             0.0                 1.0                0.0  0.126582   \n",
       "6    0.0             0.0                 0.0                1.0  0.253165   \n",
       "\n",
       "     diagtime       age  prior  \n",
       "80   1.000000  0.805556    0.0  \n",
       "5    0.114286  0.416667    0.0  \n",
       "39   0.200000  0.777778    0.0  \n",
       "36   0.085714  0.722222    0.0  \n",
       "35   0.685714  0.888889    1.0  \n",
       "58   0.314286  0.805556    0.0  \n",
       "44   0.628571  0.916667    1.0  \n",
       "77   0.057143  0.666667    0.0  \n",
       "120  0.057143  0.722222    0.0  \n",
       "119  0.057143  0.805556    0.0  \n",
       "19   0.085714  0.611111    0.0  \n",
       "92   0.028571  0.777778    0.0  \n",
       "121  0.085714  0.777778    1.0  \n",
       "17   0.028571  0.027778    0.0  \n",
       "31   0.028571  0.833333    0.0  \n",
       "90   0.600000  0.055556    1.0  \n",
       "48   0.028571  0.111111    0.0  \n",
       "53   0.085714  0.000000    0.0  \n",
       "65   0.285714  0.888889    0.0  \n",
       "83   0.771429  0.500000    1.0  \n",
       "127  0.085714  0.138889    1.0  \n",
       "16   0.228571  0.222222    0.0  \n",
       "73   0.000000  1.000000    0.0  \n",
       "97   0.200000  0.416667    0.0  \n",
       "55   0.114286  0.777778    0.0  \n",
       "33   0.057143  0.861111    0.0  \n",
       "4    0.285714  0.861111    1.0  \n",
       "132  0.000000  0.861111    0.0  \n",
       "93   0.028571  0.722222    0.0  \n",
       "66   0.114286  0.111111    0.0  \n",
       "109  0.057143  0.638889    0.0  \n",
       "123  0.057143  0.972222    0.0  \n",
       "42   0.285714  0.388889    0.0  \n",
       "54   0.428571  0.888889    1.0  \n",
       "125  0.085714  0.305556    0.0  \n",
       "40   0.000000  0.916667    0.0  \n",
       "69   0.314286  0.555556    1.0  \n",
       "12   0.085714  0.805556    0.0  \n",
       "2    0.057143  0.111111    0.0  \n",
       "134  0.485714  0.916667    1.0  \n",
       "89   0.028571  0.972222    0.0  \n",
       "6    0.257143  0.972222    1.0  "
      ]
     },
     "execution_count": 6,
     "metadata": {},
     "output_type": "execute_result"
    }
   ],
   "source": [
    "X_test"
   ]
  },
  {
   "cell_type": "markdown",
   "id": "640776f0",
   "metadata": {
    "id": "640776f0"
   },
   "source": [
    "# MODELS"
   ]
  },
  {
   "cell_type": "code",
   "execution_count": 7,
   "id": "8ac3d411",
   "metadata": {
    "id": "8ac3d411",
    "outputId": "ca008a46-e725-438c-ebbe-d3f78a94a34d"
   },
   "outputs": [
    {
     "data": {
      "text/plain": [
       "0.7128834355828221"
      ]
     },
     "execution_count": 7,
     "metadata": {},
     "output_type": "execute_result"
    }
   ],
   "source": [
    "cox_lasso = CoxnetSurvivalAnalysis(l1_ratio=1, alpha_min_ratio=0.01)\n",
    "cox_lasso.fit(X_train, y_train)\n",
    "cox_lasso.score(X_test, y_test)"
   ]
  },
  {
   "cell_type": "code",
   "execution_count": 8,
   "id": "92b5c88a",
   "metadata": {
    "id": "92b5c88a",
    "outputId": "c821be79-572d-4dcd-ced7-c1e5f825edc8"
   },
   "outputs": [
    {
     "data": {
      "text/plain": [
       "0.7061349693251534"
      ]
     },
     "execution_count": 8,
     "metadata": {},
     "output_type": "execute_result"
    }
   ],
   "source": [
    "cox_ridge = CoxnetSurvivalAnalysis(l1_ratio=0.00001, alpha_min_ratio=0.01)\n",
    "cox_ridge.fit(X_train, y_train)\n",
    "cox_ridge.score(X_test, y_test)"
   ]
  },
  {
   "cell_type": "code",
   "execution_count": 9,
   "id": "4d8423c2",
   "metadata": {
    "id": "4d8423c2"
   },
   "outputs": [],
   "source": [
    "import matplotlib.pyplot as plt\n",
    "from sklearn.preprocessing import StandardScaler\n",
    "import seaborn as sns\n",
    "\n",
    "sns.set_style(\"white\")\n",
    "\n",
    "import torch # For building the networks\n",
    "import torchtuples as tt # Some useful functions\n",
    "from torch import nn\n",
    "import torch.nn.functional as F\n",
    "\n",
    "from pycox.datasets import support\n",
    "from pycox.models import DeepHitSingle\n",
    "from pycox.models import CoxPH\n",
    "from pycox.evaluation import EvalSurv\n",
    "from pycox.preprocessing.feature_transforms import OrderedCategoricalLong\n",
    "from pycox.models.loss import rank_loss_deephit_single"
   ]
  },
  {
   "cell_type": "code",
   "execution_count": 10,
   "id": "16b53b90",
   "metadata": {
    "id": "16b53b90"
   },
   "outputs": [],
   "source": [
    "data_y_transform_train = pd.DataFrame.from_records(y_train, columns=['event', 'time'])\n",
    "data_y_transform_test = pd.DataFrame.from_records(y_test, columns=['event', 'time'])\n",
    "data_y_transform_train['cens'] = data_y_transform_train['cens'].replace({True: 1, False: 0})\n",
    "data_y_transform_test['cens'] = data_y_transform_test['cens'].replace({True: 1, False: 0})\n",
    "X_train = X_train.astype('float32')\n",
    "X_test = X_test.astype('float32')\n",
    "X_train_values= X_train.values\n",
    "X_test_values= X_test.values"
   ]
  },
  {
   "cell_type": "code",
   "execution_count": 11,
   "id": "1c54b7e1",
   "metadata": {
    "id": "1c54b7e1"
   },
   "outputs": [],
   "source": [
    "num_durations = 10\n",
    "\n",
    "labtrans = DeepHitSingle.label_transform(num_durations)\n",
    "get_target = lambda df: (df['time'].values, df['cens'].values)\n",
    "y_train_deephit = labtrans.fit_transform(*get_target(data_y_transform_train))\n",
    "durations_test, events_test = get_target(data_y_transform_test)"
   ]
  },
  {
   "cell_type": "code",
   "execution_count": 12,
   "id": "ab12cd52",
   "metadata": {
    "id": "ab12cd52",
    "outputId": "a9bebdb7-82a0-433e-aa20-7409a2c4d4f1"
   },
   "outputs": [
    {
     "name": "stderr",
     "output_type": "stream",
     "text": [
      "C:\\Users\\User\\anaconda3\\lib\\site-packages\\torchtuples\\callbacks.py:607: UserWarning: This overload of add is deprecated:\n",
      "\tadd(Number alpha, Tensor other)\n",
      "Consider using one of the following signatures instead:\n",
      "\tadd(Tensor other, *, Number alpha) (Triggered internally at  ..\\torch\\csrc\\utils\\python_arg_parser.cpp:1025.)\n",
      "  p.data = p.data.add(-weight_decay * eta, p.data)\n"
     ]
    },
    {
     "name": "stdout",
     "output_type": "stream",
     "text": [
      "0:\t[0s / 0s],\t\ttrain_loss: 0.7640\n",
      "1:\t[0s / 0s],\t\ttrain_loss: 0.7025\n",
      "2:\t[0s / 0s],\t\ttrain_loss: 0.6625\n",
      "3:\t[0s / 0s],\t\ttrain_loss: 0.6710\n",
      "4:\t[0s / 0s],\t\ttrain_loss: 0.6179\n",
      "5:\t[0s / 0s],\t\ttrain_loss: 0.6562\n",
      "6:\t[0s / 0s],\t\ttrain_loss: 0.6677\n",
      "7:\t[0s / 0s],\t\ttrain_loss: 0.6430\n",
      "8:\t[0s / 0s],\t\ttrain_loss: 0.6222\n",
      "9:\t[0s / 0s],\t\ttrain_loss: 0.6200\n",
      "10:\t[0s / 0s],\t\ttrain_loss: 0.6041\n",
      "11:\t[0s / 0s],\t\ttrain_loss: 0.6047\n",
      "12:\t[0s / 1s],\t\ttrain_loss: 0.5625\n",
      "13:\t[0s / 1s],\t\ttrain_loss: 0.5732\n",
      "14:\t[0s / 1s],\t\ttrain_loss: 0.5887\n",
      "15:\t[0s / 1s],\t\ttrain_loss: 0.5371\n",
      "16:\t[0s / 1s],\t\ttrain_loss: 0.5730\n",
      "17:\t[0s / 1s],\t\ttrain_loss: 0.5851\n",
      "18:\t[0s / 1s],\t\ttrain_loss: 0.5479\n",
      "19:\t[0s / 1s],\t\ttrain_loss: 0.5734\n",
      "20:\t[0s / 1s],\t\ttrain_loss: 0.5830\n",
      "21:\t[0s / 1s],\t\ttrain_loss: 0.5196\n",
      "22:\t[0s / 1s],\t\ttrain_loss: 0.5427\n",
      "23:\t[0s / 1s],\t\ttrain_loss: 0.5416\n",
      "24:\t[0s / 1s],\t\ttrain_loss: 0.5403\n",
      "25:\t[0s / 1s],\t\ttrain_loss: 0.5332\n",
      "26:\t[0s / 1s],\t\ttrain_loss: 0.5265\n",
      "27:\t[0s / 1s],\t\ttrain_loss: 0.5201\n",
      "28:\t[0s / 1s],\t\ttrain_loss: 0.5407\n",
      "29:\t[0s / 1s],\t\ttrain_loss: 0.5259\n"
     ]
    },
    {
     "data": {
      "text/plain": [
       "0.505521472392638"
      ]
     },
     "execution_count": 12,
     "metadata": {},
     "output_type": "execute_result"
    }
   ],
   "source": [
    "in_features = X_train.shape[1]\n",
    "out_features = labtrans.out_features\n",
    "num_nodes = [32]\n",
    "batch_norm = True\n",
    "dropout = 0.2\n",
    "\n",
    "net = tt.practical.MLPVanilla(in_features, num_nodes, out_features, batch_norm, dropout)\n",
    "optimizer = tt.optim.AdamWR(decoupled_weight_decay=0.01, cycle_eta_multiplier=0.8,\n",
    "                            cycle_multiplier=2)\n",
    "model_deep_hit = DeepHitSingle(net, optimizer, alpha = 0.2, sigma = 0.1, duration_index=labtrans.cuts)\n",
    "epochs = 30\n",
    "batch_size=8\n",
    "model_deep_hit.fit(X_train_values, y_train_deephit, batch_size, epochs)\n",
    "surv = model_deep_hit.predict_surv_df(X_test_values)\n",
    "ev = EvalSurv(surv, durations_test, events_test, censor_surv='km')\n",
    "ev.concordance_td('antolini')"
   ]
  },
  {
   "cell_type": "code",
   "execution_count": 13,
   "id": "08218960",
   "metadata": {
    "id": "08218960",
    "outputId": "78858407-27a7-43fb-8d5b-178780cb736d"
   },
   "outputs": [
    {
     "data": {
      "text/plain": [
       "0.6766871165644172"
      ]
     },
     "execution_count": 13,
     "metadata": {},
     "output_type": "execute_result"
    }
   ],
   "source": [
    "from sksurv.ensemble import RandomSurvivalForest\n",
    "rsf = RandomSurvivalForest(n_estimators=1000,\n",
    "                           min_samples_split=10,\n",
    "                           min_samples_leaf=15,\n",
    "                           n_jobs=-1,\n",
    "                           random_state=42)\n",
    "rsf.fit(X_train,y_train)\n",
    "rsf.score(X_test, y_test)"
   ]
  },
  {
   "cell_type": "code",
   "execution_count": 14,
   "id": "dda38a30",
   "metadata": {
    "id": "dda38a30",
    "outputId": "c3cd8e0d-9376-43dd-cdb1-7b4e067d98a3"
   },
   "outputs": [
    {
     "data": {
      "text/plain": [
       "0.7067484662576687"
      ]
     },
     "execution_count": 14,
     "metadata": {},
     "output_type": "execute_result"
    }
   ],
   "source": [
    "from sksurv.linear_model import CoxPHSurvivalAnalysis\n",
    "estimator = CoxPHSurvivalAnalysis().fit(X_train, y_train)\n",
    "estimator.score(X_test,y_test)"
   ]
  },
  {
   "cell_type": "code",
   "execution_count": 15,
   "id": "d3fd4e90",
   "metadata": {
    "id": "d3fd4e90",
    "outputId": "ebe69a6c-d591-4314-c30f-538aca2f9bd5"
   },
   "outputs": [
    {
     "data": {
      "text/plain": [
       "0.7104294478527607"
      ]
     },
     "execution_count": 15,
     "metadata": {},
     "output_type": "execute_result"
    }
   ],
   "source": [
    "from sksurv.linear_model import CoxnetSurvivalAnalysis\n",
    "estimator = CoxnetSurvivalAnalysis(l1_ratio=0.99, fit_baseline_model=True)\n",
    "estimator.fit(X_train, y_train)\n",
    "estimator.score(X_test, y_test)"
   ]
  },
  {
   "cell_type": "code",
   "execution_count": 16,
   "id": "34ad353d",
   "metadata": {
    "id": "34ad353d",
    "outputId": "9c3bff5c-b166-4639-b5c5-bee3d6d4fe1c"
   },
   "outputs": [
    {
     "data": {
      "text/plain": [
       "0.49447852760736194"
      ]
     },
     "execution_count": 16,
     "metadata": {},
     "output_type": "execute_result"
    }
   ],
   "source": [
    "from sksurv.ensemble import GradientBoostingSurvivalAnalysis\n",
    "est_cph_tree = GradientBoostingSurvivalAnalysis(\n",
    "    n_estimators=100, learning_rate=1.0, max_depth=1, random_state=0\n",
    ")\n",
    "est_cph_tree.fit(X_train, y_train)\n",
    "cindex = est_cph_tree.score(X_test, y_test)\n",
    "cindex"
   ]
  },
  {
   "cell_type": "code",
   "execution_count": null,
   "id": "2669ea09",
   "metadata": {
    "id": "2669ea09"
   },
   "outputs": [],
   "source": []
  },
  {
   "cell_type": "code",
   "execution_count": null,
   "id": "39e255fc",
   "metadata": {
    "id": "39e255fc"
   },
   "outputs": [],
   "source": []
  },
  {
   "cell_type": "code",
   "execution_count": 37,
   "id": "e2e147ae",
   "metadata": {
    "id": "e2e147ae"
   },
   "outputs": [],
   "source": [
    "import torch\n",
    "import torchtuples as tt\n",
    "\n",
    "from pycox.datasets import metabric\n",
    "from pycox.models import CoxPH\n",
    "from pycox.evaluation import EvalSurv"
   ]
  },
  {
   "cell_type": "code",
   "execution_count": 45,
   "id": "3ff3ed0c",
   "metadata": {
    "id": "3ff3ed0c"
   },
   "outputs": [],
   "source": [
    "get_target = lambda df: (df['time'].values, df['cens'].values)\n",
    "y_train_deepsurv = get_target(data_y_transform_train)\n",
    "durations_test, events_test = get_target(data_y_transform_test)"
   ]
  },
  {
   "cell_type": "code",
   "execution_count": 46,
   "id": "06b73e8d",
   "metadata": {
    "id": "06b73e8d"
   },
   "outputs": [],
   "source": [
    "in_features = X_train.shape[1]\n",
    "num_nodes = [64, 64]\n",
    "out_features = 1\n",
    "batch_norm = True\n",
    "dropout = 0.2\n",
    "output_bias = False\n",
    "\n",
    "net = tt.practical.MLPVanilla(in_features, num_nodes, out_features, batch_norm,\n",
    "                              dropout, output_bias=output_bias)"
   ]
  },
  {
   "cell_type": "code",
   "execution_count": 47,
   "id": "159992a3",
   "metadata": {
    "id": "159992a3",
    "outputId": "6ea8aa2e-ba86-4fbf-f6a4-431397f22ca8"
   },
   "outputs": [
    {
     "name": "stdout",
     "output_type": "stream",
     "text": [
      "0:\t[0s / 0s],\t\ttrain_loss: 1.3669\n",
      "1:\t[0s / 0s],\t\ttrain_loss: 1.2659\n",
      "2:\t[0s / 0s],\t\ttrain_loss: 1.2547\n",
      "3:\t[0s / 0s],\t\ttrain_loss: 1.2545\n",
      "4:\t[0s / 0s],\t\ttrain_loss: 1.3367\n",
      "5:\t[0s / 0s],\t\ttrain_loss: 1.1347\n",
      "6:\t[0s / 0s],\t\ttrain_loss: 1.2188\n",
      "7:\t[0s / 0s],\t\ttrain_loss: 1.2109\n",
      "8:\t[0s / 0s],\t\ttrain_loss: 1.1784\n",
      "9:\t[0s / 0s],\t\ttrain_loss: 1.2351\n"
     ]
    },
    {
     "data": {
      "text/plain": [
       "0.4805352798053528"
      ]
     },
     "execution_count": 47,
     "metadata": {},
     "output_type": "execute_result"
    }
   ],
   "source": [
    "optimizer = tt.optim.AdamWR(decoupled_weight_decay=0.01, cycle_eta_multiplier=0.8,\n",
    "                            cycle_multiplier=2)\n",
    "model_deepsurv = CoxPH(net, optimizer)\n",
    "batch_size= 8\n",
    "epochs= 100\n",
    "verbose=1\n",
    "callbacks = [tt.callbacks.EarlyStopping()]\n",
    "log = model_deepsurv.fit(X_train_values, y_train_deepsurv, batch_size, epochs, callbacks, verbose)\n",
    "model_deepsurv.compute_baseline_hazards()\n",
    "surv = model_deepsurv.predict_surv_df(X_test_values)\n",
    "ev = EvalSurv(surv, durations_test, events_test, censor_surv='km')\n",
    "ev.concordance_td()"
   ]
  },
  {
   "cell_type": "code",
   "execution_count": 41,
   "id": "46e853af",
   "metadata": {
    "id": "46e853af"
   },
   "outputs": [],
   "source": [
    "from pycox.models import LogisticHazard\n",
    "# from pycox.models import PMF\n",
    "# from pycox.models import DeepHitSingle\n",
    "from pycox.evaluation import EvalSurv"
   ]
  },
  {
   "cell_type": "code",
   "execution_count": 42,
   "id": "d45c06c0",
   "metadata": {
    "id": "d45c06c0"
   },
   "outputs": [],
   "source": [
    "num_durations = 10\n",
    "\n",
    "labtrans = LogisticHazard.label_transform(num_durations)\n",
    "# labtrans = PMF.label_transform(num_durations)\n",
    "# labtrans = DeepHitSingle.label_transform(num_durations)\n",
    "\n",
    "get_target = lambda df: (df['time'].values, df['cens'].values)\n",
    "y_train_loghazard = labtrans.fit_transform(*get_target(data_y_transform_train))\n",
    "y_test_loghazard = labtrans.transform(*get_target(data_y_transform_test))\n",
    "\n",
    "\n",
    "# # We don't need to transform the test labels\n",
    "durations_test, events_test = get_target(data_y_transform_test)"
   ]
  },
  {
   "cell_type": "code",
   "execution_count": 43,
   "id": "c517150a",
   "metadata": {
    "id": "c517150a"
   },
   "outputs": [],
   "source": [
    "X_train = X_train.astype('float32')\n",
    "X_test = X_test.astype('float32')\n",
    "X_train_values= X_train.values\n",
    "X_test_values= X_test.values"
   ]
  },
  {
   "cell_type": "code",
   "execution_count": 44,
   "id": "29cae88b",
   "metadata": {
    "id": "29cae88b",
    "outputId": "93c66687-983b-4bde-9f60-b07c4bde3e5f"
   },
   "outputs": [
    {
     "name": "stdout",
     "output_type": "stream",
     "text": [
      "0:\t[0s / 0s],\t\ttrain_loss: 1.7519\n",
      "1:\t[0s / 0s],\t\ttrain_loss: 1.5183\n",
      "2:\t[0s / 0s],\t\ttrain_loss: 1.3705\n",
      "3:\t[0s / 0s],\t\ttrain_loss: 1.2594\n",
      "4:\t[0s / 0s],\t\ttrain_loss: 1.1596\n",
      "5:\t[0s / 0s],\t\ttrain_loss: 1.0294\n",
      "6:\t[0s / 0s],\t\ttrain_loss: 0.9398\n",
      "7:\t[0s / 0s],\t\ttrain_loss: 0.8500\n",
      "8:\t[0s / 0s],\t\ttrain_loss: 0.8237\n",
      "9:\t[0s / 0s],\t\ttrain_loss: 0.7187\n",
      "10:\t[0s / 0s],\t\ttrain_loss: 0.7363\n",
      "11:\t[0s / 0s],\t\ttrain_loss: 0.6214\n",
      "12:\t[0s / 0s],\t\ttrain_loss: 0.6094\n",
      "13:\t[0s / 0s],\t\ttrain_loss: 0.5629\n",
      "14:\t[0s / 0s],\t\ttrain_loss: 0.5221\n",
      "15:\t[0s / 0s],\t\ttrain_loss: 0.5787\n",
      "16:\t[0s / 0s],\t\ttrain_loss: 0.4882\n",
      "17:\t[0s / 0s],\t\ttrain_loss: 0.4683\n",
      "18:\t[0s / 0s],\t\ttrain_loss: 0.4711\n",
      "19:\t[0s / 0s],\t\ttrain_loss: 0.4935\n"
     ]
    },
    {
     "data": {
      "text/plain": [
       "0.5067484662576687"
      ]
     },
     "execution_count": 44,
     "metadata": {},
     "output_type": "execute_result"
    }
   ],
   "source": [
    "in_features = X_train.shape[1]\n",
    "num_nodes = [32, 32]\n",
    "out_features = labtrans.out_features\n",
    "batch_norm = True\n",
    "dropout = 0.1\n",
    "net = tt.practical.MLPVanilla(in_features, num_nodes, out_features, batch_norm, dropout)\n",
    "model = LogisticHazard(net, tt.optim.Adam(0.01), duration_index=labtrans.cuts)\n",
    "batch_size = 32\n",
    "epochs = 20\n",
    "log= model.fit(X_train_values, y_train_loghazard, batch_size, epochs)\n",
    "surv = model.predict_surv_df(X_test_values)\n",
    "ev = EvalSurv(surv, durations_test, events_test, censor_surv='km')\n",
    "ev.concordance_td('antolini')"
   ]
  },
  {
   "cell_type": "code",
   "execution_count": 48,
   "id": "9fb6f9ab",
   "metadata": {
    "id": "9fb6f9ab",
    "outputId": "60cf9698-56d3-4e00-96da-2fc7b8472e25"
   },
   "outputs": [
    {
     "name": "stdout",
     "output_type": "stream",
     "text": [
      "Concordance Index: 0.6785276073619632\n"
     ]
    }
   ],
   "source": [
    "cox= CoxnetSurvivalAnalysis()\n",
    "rsf = RandomSurvivalForest(n_estimators=1000,\n",
    "                           min_samples_split=10,\n",
    "                           min_samples_leaf=15,\n",
    "                           random_state=42)\n",
    "cox.fit(X_train_values, y_train)\n",
    "rsf.fit(X_train_values, y_train)\n",
    "cox_pred = cox.predict(X_test_values)\n",
    "rsf_pred = rsf.predict(X_test_values)\n",
    "ensemble_pred= (cox_pred+rsf_pred)/2\n",
    "from sksurv.metrics import concordance_index_censored\n",
    "cindex = concordance_index_censored(y_test[\"cens\"], y_test[\"time\"], ensemble_pred)\n",
    "print(\"Concordance Index:\", cindex[0])"
   ]
  },
  {
   "cell_type": "code",
   "execution_count": 49,
   "id": "1eec45dc",
   "metadata": {
    "id": "1eec45dc",
    "outputId": "605bd202-9980-48ed-f4d9-cd6b7262a96c"
   },
   "outputs": [
    {
     "name": "stdout",
     "output_type": "stream",
     "text": [
      "Concordance Index: 0.6766871165644172\n"
     ]
    },
    {
     "name": "stderr",
     "output_type": "stream",
     "text": [
      "C:\\Users\\User\\anaconda3\\lib\\site-packages\\sklearn\\base.py:439: UserWarning: X does not have valid feature names, but CoxnetSurvivalAnalysis was fitted with feature names\n",
      "  warnings.warn(\n"
     ]
    }
   ],
   "source": [
    "cox= CoxPHSurvivalAnalysis()\n",
    "rsf = RandomSurvivalForest(n_estimators=1000,\n",
    "                           min_samples_split=10,\n",
    "                           min_samples_leaf=15,\n",
    "                           random_state=42)\n",
    "cox_lasso = CoxnetSurvivalAnalysis(l1_ratio=1, alpha_min_ratio=0.01)\n",
    "cox_lasso.fit(X_train, y_train)\n",
    "cox.fit(X_train_values, y_train)\n",
    "rsf.fit(X_train_values, y_train)\n",
    "lasso_predict = cox_lasso.predict(X_test_values)\n",
    "cox_pred = cox.predict(X_test_values)\n",
    "rsf_pred = rsf.predict(X_test_values)\n",
    "ensemble_pred = np.maximum(cox_pred, rsf_pred, lasso_predict)\n",
    "from sksurv.metrics import concordance_index_censored\n",
    "cindex = concordance_index_censored(y_test[\"cens\"], y_test[\"time\"], ensemble_pred)\n",
    "print(\"Concordance Index:\", cindex[0])"
   ]
  },
  {
   "cell_type": "code",
   "execution_count": null,
   "id": "7cfb80b1",
   "metadata": {
    "id": "7cfb80b1"
   },
   "outputs": [],
   "source": []
  }
 ],
 "metadata": {
  "colab": {
   "provenance": []
  },
  "kernelspec": {
   "display_name": "Python 3 (ipykernel)",
   "language": "python",
   "name": "python3"
  },
  "language_info": {
   "codemirror_mode": {
    "name": "ipython",
    "version": 3
   },
   "file_extension": ".py",
   "mimetype": "text/x-python",
   "name": "python",
   "nbconvert_exporter": "python",
   "pygments_lexer": "ipython3",
   "version": "3.9.13"
  }
 },
 "nbformat": 4,
 "nbformat_minor": 5
}
