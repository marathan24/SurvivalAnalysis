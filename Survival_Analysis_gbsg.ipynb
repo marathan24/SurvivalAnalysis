{
 "cells": [
  {
   "cell_type": "code",
   "execution_count": 1,
   "id": "ac86ff9c",
   "metadata": {},
   "outputs": [],
   "source": [
    "import numpy as np\n",
    "import pandas as pd\n",
    "from sklearn.model_selection import train_test_split\n",
    "from sklearn.tree import DecisionTreeClassifier\n",
    "from sklearn.preprocessing import MinMaxScaler\n",
    "import torch\n",
    "from sklearn.metrics import accuracy_score\n",
    "import torch\n",
    "import torch.nn as nn\n",
    "import torch.optim as optim\n",
    "from torch.utils.data import DataLoader, TensorDataset\n",
    "import math\n",
    "from sklearn.model_selection import train_test_split,cross_val_score,KFold,StratifiedKFold\n",
    "import torchtuples as tt"
   ]
  },
  {
   "cell_type": "code",
   "execution_count": 2,
   "id": "0dd1f393",
   "metadata": {},
   "outputs": [],
   "source": [
    "from sksurv.datasets import load_gbsg2\n",
    "from sksurv.linear_model import CoxPHSurvivalAnalysis, CoxnetSurvivalAnalysis\n",
    "from sksurv.preprocessing import OneHotEncoder, encode_categorical\n",
    "\n",
    "from sklearn import set_config\n",
    "from sklearn.model_selection import GridSearchCV, KFold\n",
    "from sklearn.pipeline import make_pipeline\n",
    "from sklearn.preprocessing import StandardScaler"
   ]
  },
  {
   "cell_type": "code",
   "execution_count": 3,
   "id": "31230627",
   "metadata": {},
   "outputs": [
    {
     "data": {
      "text/plain": [
       "array([( True, 1814.), ( True, 2018.), ( True,  712.), ( True, 1807.),\n",
       "       ( True,  772.), ( True,  448.), (False, 2172.), (False, 2161.),\n",
       "       ( True,  471.), (False, 2014.), ( True,  577.), ( True,  184.),\n",
       "       (False, 1840.), (False, 1842.), (False, 1821.), ( True, 1371.),\n",
       "       ( True,  707.), (False, 1743.), (False, 1781.), ( True,  865.),\n",
       "       ( True, 1684.), (False, 1701.), (False, 1701.), (False, 1693.),\n",
       "       ( True,  379.), ( True, 1105.), ( True,  548.), ( True, 1296.),\n",
       "       (False, 1483.), (False, 1570.), (False, 1469.), (False, 1472.),\n",
       "       (False, 1342.), (False, 1349.), ( True, 1162.), (False, 1342.),\n",
       "       ( True,  797.), (False, 1232.), (False, 1230.), (False, 1205.),\n",
       "       (False, 1090.), (False, 1095.), ( True,  449.), (False,  972.),\n",
       "       (False,  825.), (False, 2438.), (False, 2233.), ( True,  286.),\n",
       "       (False, 1861.), ( True, 1080.), ( True, 1521.), (False, 1693.),\n",
       "       ( True, 1528.), ( True,  169.), ( True,  272.), ( True,  731.),\n",
       "       (False, 2059.), (False, 1853.), (False, 1854.), (False, 1645.),\n",
       "       ( True,  544.), (False, 1666.), ( True,  353.), (False, 1791.),\n",
       "       (False, 1685.), ( True,  191.), ( True,  370.), ( True,  173.),\n",
       "       ( True,  242.), ( True,  420.), ( True,  438.), (False, 1624.),\n",
       "       ( True, 1036.), ( True,  359.), ( True,  171.), ( True,  959.),\n",
       "       (False, 1351.), ( True,  486.), ( True,  525.), ( True,  762.),\n",
       "       ( True,  175.), (False, 1195.), ( True,  338.), (False, 1125.),\n",
       "       (False,  916.), (False,  972.), (False,  867.), ( True,  249.),\n",
       "       ( True,  281.), (False,  758.), ( True,  377.), (False, 1976.),\n",
       "       (False, 2539.), (False, 2467.), ( True,  876.), (False, 2132.),\n",
       "       ( True,  426.), ( True,  554.), ( True, 1246.), (False, 1926.),\n",
       "       ( True, 1207.), (False, 1852.), ( True, 1174.), (False, 1250.),\n",
       "       ( True,  530.), (False, 1502.), (False, 1364.), ( True, 1170.),\n",
       "       (False, 1729.), (False, 1642.), ( True, 1218.), (False, 1358.),\n",
       "       ( True,  360.), ( True,  550.), (False,  857.), (False,  768.),\n",
       "       (False,  858.), (False,  770.), ( True,  679.), ( True, 1164.),\n",
       "       ( True,  350.), ( True,  578.), ( True, 1460.), (False, 1434.),\n",
       "       ( True, 1763.), ( True,  889.), ( True,  357.), ( True,  547.),\n",
       "       (False, 1722.), (False, 2372.), ( True, 2030.), ( True, 1002.),\n",
       "       ( True, 1280.), ( True,  338.), ( True,  533.), (False,  168.),\n",
       "       (False, 1169.), ( True, 1675.), (False, 1862.), (False,  629.),\n",
       "       (False, 1167.), ( True,  495.), (False,  967.), (False, 1720.),\n",
       "       ( True,  598.), ( True,  392.), (False, 1502.), (False,  229.),\n",
       "       (False,  310.), (False, 1296.), (False,  488.), (False,  942.),\n",
       "       (False,  570.), (False, 1177.), (False, 1113.), ( True,  288.),\n",
       "       (False,  723.), ( True,  403.), ( True, 1225.), ( True,  338.),\n",
       "       ( True, 1337.), ( True, 1420.), (False, 2048.), ( True,  600.),\n",
       "       (False, 1765.), ( True,  491.), ( True,  305.), (False, 1582.),\n",
       "       (False, 1771.), ( True,  960.), ( True,  571.), (False,  675.),\n",
       "       ( True,  285.), (False, 1472.), ( True, 1279.), (False,  148.),\n",
       "       (False, 1863.), (False, 1933.), ( True,  358.), (False,  734.),\n",
       "       ( True, 2372.), (False, 2563.), (False, 2372.), ( True, 1989.),\n",
       "       ( True, 2015.), (False, 1956.), ( True,  945.), (False, 2153.),\n",
       "       ( True,  838.), ( True,  113.), (False, 1833.), (False, 1722.),\n",
       "       ( True,  241.), ( True, 1352.), (False, 1702.), (False, 1222.),\n",
       "       (False, 1089.), (False, 1243.), ( True,  579.), ( True, 1043.),\n",
       "       (False, 2234.), (False, 2297.), (False, 2014.), ( True,  518.),\n",
       "       (False,  940.), (False,  766.), ( True,  251.), (False, 1959.),\n",
       "       (False, 1897.), ( True,  160.), (False,  970.), (False,  892.),\n",
       "       (False,  753.), ( True,  348.), ( True,  275.), ( True, 1329.),\n",
       "       ( True, 1193.), ( True,  698.), ( True,  436.), ( True,  552.),\n",
       "       ( True,  564.), (False, 2239.), (False, 2237.), ( True,  529.),\n",
       "       (False, 1820.), (False, 1756.), ( True,  515.), ( True,  272.),\n",
       "       ( True,  891.), (False, 1356.), (False, 1352.), (False, 1077.),\n",
       "       ( True,  675.), (False,  855.), (False,  740.), (False, 2551.),\n",
       "       ( True,  754.), ( True,  819.), ( True, 1280.), (False, 2388.),\n",
       "       (False, 2296.), (False, 1884.), ( True, 1059.), (False,  859.),\n",
       "       (False, 1109.), ( True, 1192.), ( True, 1806.), ( True,  500.),\n",
       "       ( True, 1589.), ( True, 1463.), (False, 1826.), (False, 1231.),\n",
       "       (False, 1117.), ( True,  836.), (False, 1222.), (False,  663.),\n",
       "       ( True,  722.), (False,  322.), ( True, 1150.), ( True,  446.),\n",
       "       (False, 1855.), ( True,  238.), (False, 1838.), (False, 1826.),\n",
       "       ( True, 1093.), (False, 2051.), ( True,  370.), ( True,  861.),\n",
       "       ( True, 1587.), ( True,  552.), (False, 2353.), (False, 2471.),\n",
       "       ( True,  893.), ( True, 2093.), (False, 2612.), ( True,  956.),\n",
       "       (False, 1637.), (False, 2456.), (False, 2227.), ( True, 1601.),\n",
       "       (False, 1841.), (False, 2177.), (False, 2052.), (False,  973.),\n",
       "       (False, 2156.), (False, 1499.), (False, 2030.), ( True,  573.),\n",
       "       (False, 1666.), (False, 1979.), (False, 1786.), (False, 1847.),\n",
       "       (False, 2009.), (False, 1926.), (False, 1490.), ( True,  233.),\n",
       "       (False, 1240.), (False, 1751.), (False, 1878.), (False, 1171.),\n",
       "       (False, 1751.), (False, 1756.), ( True,  714.), (False, 1505.),\n",
       "       ( True,  776.), (False, 1443.), (False, 1317.), (False,  870.),\n",
       "       ( True,  859.), ( True,  223.), (False, 1212.), (False, 1119.),\n",
       "       (False,  740.), (False, 1062.), (False,    8.), (False,  936.),\n",
       "       (False,  740.), ( True,  632.), (False, 1760.), (False, 1013.),\n",
       "       (False,  779.), ( True,  375.), (False, 1323.), (False, 1233.),\n",
       "       (False,  986.), (False,  650.), (False,  628.), (False, 1866.),\n",
       "       ( True,  491.), ( True, 1918.), ( True,   72.), ( True, 1140.),\n",
       "       ( True,  799.), ( True, 1105.), ( True,  548.), ( True,  227.),\n",
       "       (False, 1838.), (False, 1833.), ( True,  550.), ( True,  426.),\n",
       "       (False, 1834.), (False, 1604.), (False,  772.), ( True, 1146.),\n",
       "       ( True,  371.), ( True,  883.), (False, 1735.), ( True,  554.),\n",
       "       ( True,  790.), (False, 1340.), ( True,  490.), (False, 1557.),\n",
       "       ( True,  594.), (False,  828.), ( True,  594.), (False,  841.),\n",
       "       (False,  695.), (False, 2556.), ( True, 1753.), ( True,  417.),\n",
       "       ( True,  956.), (False, 1846.), (False, 1703.), (False, 1720.),\n",
       "       (False, 1355.), (False, 1603.), ( True,  476.), (False, 1350.),\n",
       "       (False, 1341.), (False, 2449.), ( True, 2286.), ( True,  456.),\n",
       "       ( True,  536.), ( True,  612.), ( True, 2034.), ( True, 1990.),\n",
       "       ( True, 2456.), (False, 2205.), ( True,  544.), ( True,  336.),\n",
       "       (False, 2057.), ( True,  575.), (False, 2011.), ( True,  537.),\n",
       "       (False, 2217.), ( True, 1814.), ( True,  890.), (False, 1114.),\n",
       "       (False,  974.), (False,  296.), (False, 2320.), ( True,  795.),\n",
       "       ( True,  867.), (False, 1703.), ( True,  670.), ( True,  981.),\n",
       "       (False, 1094.), ( True,  755.), ( True, 1388.), ( True, 1387.),\n",
       "       ( True,  535.), (False, 1653.), (False, 1904.), (False, 1868.),\n",
       "       (False, 1767.), ( True,  855.), ( True, 1157.), (False, 1869.),\n",
       "       (False, 1152.), (False, 1401.), (False,  918.), ( True,  745.),\n",
       "       (False, 1283.), ( True, 1481.), (False, 1807.), ( True,  542.),\n",
       "       (False, 1441.), (False, 1277.), (False, 1486.), (False,  273.),\n",
       "       ( True,  177.), ( True,  545.), (False, 1185.), (False,  631.),\n",
       "       (False,  995.), (False, 1088.), (False,  877.), (False,  798.),\n",
       "       (False, 2380.), ( True, 1679.), ( True,  498.), (False, 2138.),\n",
       "       (False, 2175.), (False, 2271.), (False,   17.), ( True,  964.),\n",
       "       ( True,  540.), ( True,  747.), ( True,  650.), ( True,  410.),\n",
       "       ( True,  624.), (False, 1560.), ( True,  455.), (False, 1629.),\n",
       "       (False, 1730.), (False, 1483.), ( True,  687.), ( True,  308.),\n",
       "       ( True,  563.), (False,   46.), (False, 2144.), ( True,  344.),\n",
       "       (False,  945.), (False, 1905.), ( True,  855.), (False, 2370.),\n",
       "       (False,  853.), (False,  692.), ( True,  475.), (False, 2195.),\n",
       "       (False,  758.), ( True,  648.), (False,  761.), (False,  596.),\n",
       "       ( True,  195.), ( True,  473.), (False,  747.), (False, 2659.),\n",
       "       ( True, 1977.), (False, 2401.), (False, 1499.), (False, 1856.),\n",
       "       ( True,  595.), (False, 2148.), (False, 2126.), ( True, 1975.),\n",
       "       ( True, 1641.), (False, 1717.), (False, 1858.), (False, 2049.),\n",
       "       ( True, 1502.), (False, 1922.), (False, 1818.), (False, 1100.),\n",
       "       (False, 1499.), ( True,  359.), (False, 1645.), (False, 1356.),\n",
       "       (False, 1632.), (False,  967.), (False, 1091.), ( True,  918.),\n",
       "       ( True,  557.), ( True, 1219.), (False, 2170.), ( True,  729.),\n",
       "       ( True, 1449.), ( True,  991.), ( True,  481.), (False, 1655.),\n",
       "       ( True,  857.), ( True,  369.), (False, 1627.), (False, 1578.),\n",
       "       ( True,  732.), ( True,  460.), (False, 1208.), ( True,  730.),\n",
       "       (False,  722.), (False,  717.), (False,  651.), (False,  637.),\n",
       "       (False,  615.), (False,   42.), ( True,  307.), ( True,  983.),\n",
       "       ( True,  120.), ( True, 1525.), (False, 1680.), ( True, 1730.),\n",
       "       ( True,  805.), (False, 2388.), ( True,  559.), (False, 1977.),\n",
       "       ( True,  476.), (False, 1514.), (False, 1617.), ( True, 1094.),\n",
       "       ( True,  784.), ( True,  181.), ( True,  415.), ( True, 1120.),\n",
       "       ( True,  316.), ( True,  637.), ( True,  247.), (False,  888.),\n",
       "       ( True,  622.), (False,  806.), (False, 1163.), (False, 1721.),\n",
       "       (False,  741.), ( True,  372.), (False, 1331.), ( True,  394.),\n",
       "       (False,  652.), (False,  657.), (False,  567.), (False,  429.),\n",
       "       (False,  566.), (False,   15.), ( True,   98.), (False,  368.),\n",
       "       (False,  432.), (False,  319.), (False,   65.), (False,   16.),\n",
       "       (False,   29.), (False,   18.), (False,   17.), ( True,  308.),\n",
       "       (False, 1965.), ( True,  548.), ( True,  293.), (False, 2017.),\n",
       "       (False, 1093.), (False,  792.), ( True,  586.), (False, 1434.),\n",
       "       (False,   67.), (False,  623.), (False, 2128.), (False, 1965.),\n",
       "       (False, 2161.), ( True, 1183.), ( True, 1108.), (False, 2065.),\n",
       "       (False, 1598.), ( True,  491.), ( True, 1366.), (False,  424.),\n",
       "       ( True,  859.), ( True,  180.), (False, 1625.), (False, 1938.),\n",
       "       ( True, 1343.), ( True,  646.), (False, 2192.), ( True,  502.),\n",
       "       (False, 1675.), ( True, 1363.), ( True,  420.), ( True,  982.),\n",
       "       (False, 1459.), (False, 1192.), (False, 1264.), (False, 1095.),\n",
       "       (False, 1078.), (False,  737.), (False,  461.), ( True,  465.),\n",
       "       ( True,  842.), (False,  918.), ( True,  374.), (False, 1089.),\n",
       "       (False, 1527.), ( True,  285.), ( True, 1306.), ( True,  797.),\n",
       "       (False, 1441.), ( True,  343.), (False,  936.), (False,  195.),\n",
       "       ( True,  503.), ( True,  827.), (False, 1427.), (False,  854.),\n",
       "       ( True,  177.), ( True,  281.), ( True,  205.), (False,  751.),\n",
       "       ( True,  629.), (False,  526.), (False,  463.), (False,  529.),\n",
       "       (False,  623.), (False,  546.), (False,  213.), (False,  276.),\n",
       "       (False, 2010.), (False, 2009.), (False, 1984.), (False, 1981.),\n",
       "       ( True,  624.), ( True,  742.), (False, 1818.), ( True, 1493.),\n",
       "       (False, 1432.), ( True,  801.), (False, 1182.), (False,   71.),\n",
       "       (False,  114.), (False,   63.), (False, 1722.), (False, 1692.),\n",
       "       (False,  177.), (False,   57.), (False, 1152.), (False,  733.),\n",
       "       ( True, 1459.), (False, 2237.), (False,  933.), (False, 2056.),\n",
       "       (False, 1729.), (False, 2024.), ( True, 2039.), (False, 2027.),\n",
       "       (False, 2007.), ( True, 1253.), (False, 1789.), (False, 1707.),\n",
       "       (False, 1714.), (False, 1717.), ( True,  329.), (False, 1624.),\n",
       "       (False, 1600.), ( True,  385.), (False, 1475.), (False, 1435.),\n",
       "       (False,  541.), (False, 1329.), (False, 1357.), (False, 1343.),\n",
       "       ( True,  748.), ( True, 1090.), (False, 1219.), (False,  553.),\n",
       "       ( True,  662.), (False,  969.), (False,  974.), ( True,  866.),\n",
       "       ( True,  504.), (False,  721.), (False,  186.), ( True,  769.),\n",
       "       ( True,  727.), ( True, 1701.)],\n",
       "      dtype=[('cens', '?'), ('time', '<f8')])"
      ]
     },
     "execution_count": 3,
     "metadata": {},
     "output_type": "execute_result"
    }
   ],
   "source": [
    "data_x, data_y = load_gbsg2()\n",
    "data_y"
   ]
  },
  {
   "cell_type": "code",
   "execution_count": 4,
   "id": "588fb5a7",
   "metadata": {},
   "outputs": [],
   "source": [
    "data_x, data_y = load_gbsg2()\n",
    "data_x_transform = OneHotEncoder().fit_transform(data_x)\n",
    "data_y_transform = pd.DataFrame.from_records(data_y, columns=['event', 'time'])\n",
    "data_y_transform['cens'] = data_y_transform['cens'].replace({True: 1, False: 0})\n",
    "X_train, X_test, y_train, y_test = train_test_split(data_x_transform, data_y, test_size=0.2, random_state=1)"
   ]
  },
  {
   "cell_type": "code",
   "execution_count": 5,
   "id": "1c4c442b",
   "metadata": {},
   "outputs": [
    {
     "data": {
      "text/plain": [
       "0.6548471615720524"
      ]
     },
     "execution_count": 5,
     "metadata": {},
     "output_type": "execute_result"
    }
   ],
   "source": [
    "cox_lasso = CoxnetSurvivalAnalysis(l1_ratio=1, alpha_min_ratio=0.01)\n",
    "cox_lasso.fit(X_train, y_train)\n",
    "cox_lasso.score(X_test, y_test)"
   ]
  },
  {
   "cell_type": "code",
   "execution_count": 6,
   "id": "4cd10dd3",
   "metadata": {},
   "outputs": [
    {
     "data": {
      "text/plain": [
       "0.6648908296943231"
      ]
     },
     "execution_count": 6,
     "metadata": {},
     "output_type": "execute_result"
    }
   ],
   "source": [
    "cox_ridge = CoxnetSurvivalAnalysis(l1_ratio=0.00001, alpha_min_ratio=0.01)\n",
    "cox_ridge.fit(X_train, y_train)\n",
    "cox_ridge.score(X_test, y_test)"
   ]
  },
  {
   "cell_type": "code",
   "execution_count": 6,
   "id": "df878d8f",
   "metadata": {},
   "outputs": [],
   "source": [
    "import matplotlib.pyplot as plt\n",
    "from sklearn.preprocessing import StandardScaler\n",
    "import seaborn as sns\n",
    "\n",
    "sns.set_style(\"white\")\n",
    "\n",
    "import torch # For building the networks \n",
    "import torchtuples as tt # Some useful functions\n",
    "from torch import nn\n",
    "import torch.nn.functional as F\n",
    "\n",
    "from pycox.datasets import support\n",
    "from pycox.models import DeepHitSingle\n",
    "from pycox.models import CoxPH\n",
    "from pycox.evaluation import EvalSurv\n",
    "from pycox.preprocessing.feature_transforms import OrderedCategoricalLong\n",
    "from pycox.models.loss import rank_loss_deephit_single"
   ]
  },
  {
   "cell_type": "code",
   "execution_count": 7,
   "id": "8286f7a0",
   "metadata": {},
   "outputs": [],
   "source": [
    "data_y_transform_train = pd.DataFrame.from_records(y_train, columns=['event', 'time'])\n",
    "data_y_transform_test = pd.DataFrame.from_records(y_test, columns=['event', 'time'])\n",
    "data_y_transform_train['cens'] = data_y_transform_train['cens'].replace({True: 1, False: 0})\n",
    "data_y_transform_test['cens'] = data_y_transform_test['cens'].replace({True: 1, False: 0})\n",
    "X_train = X_train.astype('float32')\n",
    "X_test = X_test.astype('float32')\n",
    "X_train_values= X_train.values\n",
    "X_test_values= X_test.values"
   ]
  },
  {
   "cell_type": "code",
   "execution_count": 66,
   "id": "81ba9c68",
   "metadata": {},
   "outputs": [],
   "source": [
    "num_durations = 10\n",
    "\n",
    "labtrans = DeepHitSingle.label_transform(num_durations)\n",
    "get_target = lambda df: (df['time'].values, df['cens'].values)\n",
    "y_train = labtrans.fit_transform(*get_target(data_y_transform_train))\n",
    "durations_test, events_test = get_target(data_y_transform_test)"
   ]
  },
  {
   "cell_type": "code",
   "execution_count": 67,
   "id": "07000d64",
   "metadata": {},
   "outputs": [
    {
     "name": "stdout",
     "output_type": "stream",
     "text": [
      "0:\t[0s / 0s],\t\ttrain_loss: 0.5967\n",
      "1:\t[0s / 0s],\t\ttrain_loss: 0.5058\n",
      "2:\t[0s / 0s],\t\ttrain_loss: 0.5046\n",
      "3:\t[0s / 1s],\t\ttrain_loss: 0.4776\n",
      "4:\t[0s / 1s],\t\ttrain_loss: 0.4773\n",
      "5:\t[0s / 1s],\t\ttrain_loss: 0.4706\n",
      "6:\t[0s / 1s],\t\ttrain_loss: 0.4688\n",
      "7:\t[0s / 2s],\t\ttrain_loss: 0.4623\n",
      "8:\t[0s / 2s],\t\ttrain_loss: 0.4689\n",
      "9:\t[0s / 2s],\t\ttrain_loss: 0.4642\n",
      "10:\t[0s / 2s],\t\ttrain_loss: 0.4612\n",
      "11:\t[0s / 2s],\t\ttrain_loss: 0.4606\n",
      "12:\t[0s / 3s],\t\ttrain_loss: 0.4535\n",
      "13:\t[0s / 3s],\t\ttrain_loss: 0.4507\n",
      "14:\t[0s / 3s],\t\ttrain_loss: 0.4463\n",
      "15:\t[0s / 3s],\t\ttrain_loss: 0.4423\n",
      "16:\t[0s / 3s],\t\ttrain_loss: 0.4467\n",
      "17:\t[0s / 4s],\t\ttrain_loss: 0.4412\n",
      "18:\t[0s / 4s],\t\ttrain_loss: 0.4489\n",
      "19:\t[0s / 4s],\t\ttrain_loss: 0.4555\n"
     ]
    },
    {
     "data": {
      "text/plain": [
       "0.6385709330558446"
      ]
     },
     "execution_count": 67,
     "metadata": {},
     "output_type": "execute_result"
    }
   ],
   "source": [
    "in_features = X_train.shape[1]\n",
    "out_features = labtrans.out_features\n",
    "num_nodes = [32]\n",
    "batch_norm = True\n",
    "dropout = 0.2\n",
    "\n",
    "net = tt.practical.MLPVanilla(in_features, num_nodes, out_features, batch_norm, dropout)\n",
    "optimizer = tt.optim.AdamWR(decoupled_weight_decay=0.01, cycle_eta_multiplier=0.8,\n",
    "                            cycle_multiplier=2)\n",
    "model_deep_hit = DeepHitSingle(net, optimizer, alpha = 0.2, sigma = 0.1, duration_index=labtrans.cuts)\n",
    "epochs = 20\n",
    "batch_size=8\n",
    "model_deep_hit.fit(X_train_values, y_train, batch_size, epochs)\n",
    "surv = model_deep_hit.predict_surv_df(X_test_values)\n",
    "ev = EvalSurv(surv, durations_test, events_test, censor_surv='km')\n",
    "ev.concordance_td('antolini')"
   ]
  },
  {
   "cell_type": "code",
   "execution_count": 68,
   "id": "2012010f",
   "metadata": {},
   "outputs": [],
   "source": [
    "import torch\n",
    "import torchtuples as tt\n",
    "\n",
    "from pycox.datasets import metabric\n",
    "from pycox.models import CoxPH\n",
    "from pycox.evaluation import EvalSurv"
   ]
  },
  {
   "cell_type": "code",
   "execution_count": 69,
   "id": "71479eab",
   "metadata": {},
   "outputs": [],
   "source": [
    "get_target = lambda df: (df['time'].values, df['cens'].values)\n",
    "y_train_deepsurv = get_target(data_y_transform_train)\n",
    "durations_test, events_test = get_target(data_y_transform_test)"
   ]
  },
  {
   "cell_type": "code",
   "execution_count": 70,
   "id": "f1a869f5",
   "metadata": {},
   "outputs": [
    {
     "data": {
      "text/html": [
       "<div>\n",
       "<style scoped>\n",
       "    .dataframe tbody tr th:only-of-type {\n",
       "        vertical-align: middle;\n",
       "    }\n",
       "\n",
       "    .dataframe tbody tr th {\n",
       "        vertical-align: top;\n",
       "    }\n",
       "\n",
       "    .dataframe thead th {\n",
       "        text-align: right;\n",
       "    }\n",
       "</style>\n",
       "<table border=\"1\" class=\"dataframe\">\n",
       "  <thead>\n",
       "    <tr style=\"text-align: right;\">\n",
       "      <th></th>\n",
       "      <th>age</th>\n",
       "      <th>estrec</th>\n",
       "      <th>horTh=yes</th>\n",
       "      <th>menostat=Post</th>\n",
       "      <th>pnodes</th>\n",
       "      <th>progrec</th>\n",
       "      <th>tgrade=II</th>\n",
       "      <th>tgrade=III</th>\n",
       "      <th>tsize</th>\n",
       "    </tr>\n",
       "  </thead>\n",
       "  <tbody>\n",
       "    <tr>\n",
       "      <th>360</th>\n",
       "      <td>36.0</td>\n",
       "      <td>0.0</td>\n",
       "      <td>0.0</td>\n",
       "      <td>0.0</td>\n",
       "      <td>2.0</td>\n",
       "      <td>0.0</td>\n",
       "      <td>0.0</td>\n",
       "      <td>1.0</td>\n",
       "      <td>30.0</td>\n",
       "    </tr>\n",
       "    <tr>\n",
       "      <th>224</th>\n",
       "      <td>46.0</td>\n",
       "      <td>0.0</td>\n",
       "      <td>0.0</td>\n",
       "      <td>0.0</td>\n",
       "      <td>2.0</td>\n",
       "      <td>0.0</td>\n",
       "      <td>1.0</td>\n",
       "      <td>0.0</td>\n",
       "      <td>11.0</td>\n",
       "    </tr>\n",
       "    <tr>\n",
       "      <th>676</th>\n",
       "      <td>56.0</td>\n",
       "      <td>700.0</td>\n",
       "      <td>1.0</td>\n",
       "      <td>1.0</td>\n",
       "      <td>5.0</td>\n",
       "      <td>113.0</td>\n",
       "      <td>0.0</td>\n",
       "      <td>0.0</td>\n",
       "      <td>42.0</td>\n",
       "    </tr>\n",
       "    <tr>\n",
       "      <th>662</th>\n",
       "      <td>49.0</td>\n",
       "      <td>41.0</td>\n",
       "      <td>0.0</td>\n",
       "      <td>1.0</td>\n",
       "      <td>1.0</td>\n",
       "      <td>14.0</td>\n",
       "      <td>1.0</td>\n",
       "      <td>0.0</td>\n",
       "      <td>22.0</td>\n",
       "    </tr>\n",
       "    <tr>\n",
       "      <th>185</th>\n",
       "      <td>61.0</td>\n",
       "      <td>9.0</td>\n",
       "      <td>1.0</td>\n",
       "      <td>1.0</td>\n",
       "      <td>2.0</td>\n",
       "      <td>23.0</td>\n",
       "      <td>0.0</td>\n",
       "      <td>1.0</td>\n",
       "      <td>35.0</td>\n",
       "    </tr>\n",
       "    <tr>\n",
       "      <th>...</th>\n",
       "      <td>...</td>\n",
       "      <td>...</td>\n",
       "      <td>...</td>\n",
       "      <td>...</td>\n",
       "      <td>...</td>\n",
       "      <td>...</td>\n",
       "      <td>...</td>\n",
       "      <td>...</td>\n",
       "      <td>...</td>\n",
       "    </tr>\n",
       "    <tr>\n",
       "      <th>144</th>\n",
       "      <td>62.0</td>\n",
       "      <td>1060.0</td>\n",
       "      <td>1.0</td>\n",
       "      <td>1.0</td>\n",
       "      <td>1.0</td>\n",
       "      <td>35.0</td>\n",
       "      <td>1.0</td>\n",
       "      <td>0.0</td>\n",
       "      <td>19.0</td>\n",
       "    </tr>\n",
       "    <tr>\n",
       "      <th>645</th>\n",
       "      <td>43.0</td>\n",
       "      <td>43.0</td>\n",
       "      <td>0.0</td>\n",
       "      <td>0.0</td>\n",
       "      <td>1.0</td>\n",
       "      <td>171.0</td>\n",
       "      <td>1.0</td>\n",
       "      <td>0.0</td>\n",
       "      <td>32.0</td>\n",
       "    </tr>\n",
       "    <tr>\n",
       "      <th>72</th>\n",
       "      <td>54.0</td>\n",
       "      <td>81.0</td>\n",
       "      <td>1.0</td>\n",
       "      <td>1.0</td>\n",
       "      <td>6.0</td>\n",
       "      <td>15.0</td>\n",
       "      <td>1.0</td>\n",
       "      <td>0.0</td>\n",
       "      <td>30.0</td>\n",
       "    </tr>\n",
       "    <tr>\n",
       "      <th>235</th>\n",
       "      <td>63.0</td>\n",
       "      <td>30.0</td>\n",
       "      <td>1.0</td>\n",
       "      <td>1.0</td>\n",
       "      <td>1.0</td>\n",
       "      <td>26.0</td>\n",
       "      <td>1.0</td>\n",
       "      <td>0.0</td>\n",
       "      <td>21.0</td>\n",
       "    </tr>\n",
       "    <tr>\n",
       "      <th>37</th>\n",
       "      <td>64.0</td>\n",
       "      <td>86.0</td>\n",
       "      <td>0.0</td>\n",
       "      <td>1.0</td>\n",
       "      <td>9.0</td>\n",
       "      <td>67.0</td>\n",
       "      <td>0.0</td>\n",
       "      <td>0.0</td>\n",
       "      <td>25.0</td>\n",
       "    </tr>\n",
       "  </tbody>\n",
       "</table>\n",
       "<p>514 rows × 9 columns</p>\n",
       "</div>"
      ],
      "text/plain": [
       "      age  estrec  horTh=yes  menostat=Post  pnodes  progrec  tgrade=II  \\\n",
       "360  36.0     0.0        0.0            0.0     2.0      0.0        0.0   \n",
       "224  46.0     0.0        0.0            0.0     2.0      0.0        1.0   \n",
       "676  56.0   700.0        1.0            1.0     5.0    113.0        0.0   \n",
       "662  49.0    41.0        0.0            1.0     1.0     14.0        1.0   \n",
       "185  61.0     9.0        1.0            1.0     2.0     23.0        0.0   \n",
       "..    ...     ...        ...            ...     ...      ...        ...   \n",
       "144  62.0  1060.0        1.0            1.0     1.0     35.0        1.0   \n",
       "645  43.0    43.0        0.0            0.0     1.0    171.0        1.0   \n",
       "72   54.0    81.0        1.0            1.0     6.0     15.0        1.0   \n",
       "235  63.0    30.0        1.0            1.0     1.0     26.0        1.0   \n",
       "37   64.0    86.0        0.0            1.0     9.0     67.0        0.0   \n",
       "\n",
       "     tgrade=III  tsize  \n",
       "360         1.0   30.0  \n",
       "224         0.0   11.0  \n",
       "676         0.0   42.0  \n",
       "662         0.0   22.0  \n",
       "185         1.0   35.0  \n",
       "..          ...    ...  \n",
       "144         0.0   19.0  \n",
       "645         0.0   32.0  \n",
       "72          0.0   30.0  \n",
       "235         0.0   21.0  \n",
       "37          0.0   25.0  \n",
       "\n",
       "[514 rows x 9 columns]"
      ]
     },
     "execution_count": 70,
     "metadata": {},
     "output_type": "execute_result"
    }
   ],
   "source": [
    "X_train"
   ]
  },
  {
   "cell_type": "code",
   "execution_count": 71,
   "id": "860f63e4",
   "metadata": {},
   "outputs": [],
   "source": [
    "in_features = X_train.shape[1]\n",
    "num_nodes = [64, 64]\n",
    "out_features = 1\n",
    "batch_norm = True\n",
    "dropout = 0.2\n",
    "output_bias = False\n",
    "\n",
    "net = tt.practical.MLPVanilla(in_features, num_nodes, out_features, batch_norm,\n",
    "                              dropout, output_bias=output_bias)"
   ]
  },
  {
   "cell_type": "code",
   "execution_count": 72,
   "id": "c26fa19d",
   "metadata": {},
   "outputs": [
    {
     "name": "stdout",
     "output_type": "stream",
     "text": [
      "0:\t[0s / 0s],\t\n",
      "1:\t[0s / 0s],\t\n",
      "2:\t[0s / 1s],\t\n",
      "3:\t[0s / 1s],\t\n",
      "4:\t[0s / 2s],\t\n",
      "5:\t[0s / 2s],\t\n",
      "6:\t[0s / 2s],\t\n",
      "7:\t[0s / 3s],\t\n",
      "8:\t[0s / 3s],\t\n",
      "9:\t[0s / 3s],\t\n"
     ]
    }
   ],
   "source": [
    "optimizer = tt.optim.AdamWR(decoupled_weight_decay=0.01, cycle_eta_multiplier=0.8,\n",
    "                            cycle_multiplier=2)\n",
    "model_deepsurv = CoxPH(net, optimizer) \n",
    "batch_size= 4\n",
    "epochs= 100\n",
    "verbose=1\n",
    "callbacks = [tt.callbacks.EarlyStopping()]\n",
    "log = model_deepsurv.fit(X_train_values, y_train_deepsurv, batch_size, epochs, callbacks, verbose)"
   ]
  },
  {
   "cell_type": "code",
   "execution_count": 73,
   "id": "a704653a",
   "metadata": {},
   "outputs": [
    {
     "name": "stderr",
     "output_type": "stream",
     "text": [
      "C:\\Users\\User\\anaconda3\\lib\\site-packages\\pycox\\models\\cox.py:231: RuntimeWarning: overflow encountered in exp\n",
      "  .assign(expg=np.exp(self.predict(input, batch_size, True, eval_, num_workers=num_workers)))\n"
     ]
    },
    {
     "data": {
      "text/plain": [
       "0.4933017669476845"
      ]
     },
     "execution_count": 73,
     "metadata": {},
     "output_type": "execute_result"
    }
   ],
   "source": [
    "model_deepsurv.compute_baseline_hazards()\n",
    "surv = model_deepsurv.predict_surv_df(X_test_values)\n",
    "ev = EvalSurv(surv, durations_test, events_test, censor_surv='km')\n",
    "ev.concordance_td()"
   ]
  },
  {
   "cell_type": "code",
   "execution_count": 74,
   "id": "29de0f63",
   "metadata": {},
   "outputs": [],
   "source": [
    "data_x, data_y = load_gbsg2()\n",
    "data_x_transform = OneHotEncoder().fit_transform(data_x)\n",
    "data_y_transform = pd.DataFrame.from_records(data_y, columns=['event', 'time'])\n",
    "data_y_transform['cens'] = data_y_transform['cens'].replace({True: 1, False: 0})\n",
    "X_train, X_test, y_train, y_test = train_test_split(data_x_transform, data_y, random_state=1)"
   ]
  },
  {
   "cell_type": "code",
   "execution_count": 49,
   "id": "36b13aa5",
   "metadata": {},
   "outputs": [
    {
     "data": {
      "text/plain": [
       "0.6919875130072841"
      ]
     },
     "execution_count": 49,
     "metadata": {},
     "output_type": "execute_result"
    }
   ],
   "source": [
    "from sksurv.ensemble import RandomSurvivalForest\n",
    "rsf = RandomSurvivalForest(n_estimators=1000,\n",
    "                           min_samples_split=10,\n",
    "                           min_samples_leaf=15,\n",
    "                           n_jobs=-1,\n",
    "                           random_state=42)\n",
    "rsf.fit(X_train,y_train)\n",
    "rsf.score(X_test, y_test)"
   ]
  },
  {
   "cell_type": "code",
   "execution_count": 7,
   "id": "7caa80c0",
   "metadata": {},
   "outputs": [
    {
     "data": {
      "text/plain": [
       "0.6733624454148471"
      ]
     },
     "execution_count": 7,
     "metadata": {},
     "output_type": "execute_result"
    }
   ],
   "source": [
    "from sksurv.linear_model import CoxPHSurvivalAnalysis\n",
    "estimator = CoxPHSurvivalAnalysis().fit(X_train, y_train)\n",
    "estimator.score(X_test,y_test)"
   ]
  },
  {
   "cell_type": "code",
   "execution_count": 76,
   "id": "a917282d",
   "metadata": {},
   "outputs": [
    {
     "data": {
      "text/plain": [
       "0.6754538096889814"
      ]
     },
     "execution_count": 76,
     "metadata": {},
     "output_type": "execute_result"
    }
   ],
   "source": [
    "from sksurv.linear_model import CoxnetSurvivalAnalysis\n",
    "estimator = CoxnetSurvivalAnalysis(l1_ratio=0.99, fit_baseline_model=True)\n",
    "estimator.fit(X_train, y_train)\n",
    "estimator.score(X_test, y_test)"
   ]
  },
  {
   "cell_type": "code",
   "execution_count": 77,
   "id": "8dfb6f99",
   "metadata": {},
   "outputs": [
    {
     "data": {
      "text/plain": [
       "0.654873395768297"
      ]
     },
     "execution_count": 77,
     "metadata": {},
     "output_type": "execute_result"
    }
   ],
   "source": [
    "from sksurv.ensemble import ComponentwiseGradientBoostingSurvivalAnalysis\n",
    "from sksurv.ensemble import GradientBoostingSurvivalAnalysis\n",
    "est_cph_tree = GradientBoostingSurvivalAnalysis(\n",
    "    n_estimators=100, learning_rate=1.0, max_depth=1, random_state=0\n",
    ")\n",
    "est_cph_tree.fit(X_train, y_train)\n",
    "cindex = est_cph_tree.score(X_test, y_test)\n",
    "cindex"
   ]
  },
  {
   "cell_type": "code",
   "execution_count": 78,
   "id": "1a57a31c",
   "metadata": {},
   "outputs": [],
   "source": [
    "from pycox.models import LogisticHazard\n",
    "# from pycox.models import PMF\n",
    "# from pycox.models import DeepHitSingle\n",
    "from pycox.evaluation import EvalSurv"
   ]
  },
  {
   "cell_type": "code",
   "execution_count": 81,
   "id": "e28ae495",
   "metadata": {},
   "outputs": [],
   "source": [
    "num_durations = 10\n",
    "\n",
    "labtrans = LogisticHazard.label_transform(num_durations)\n",
    "# labtrans = PMF.label_transform(num_durations)\n",
    "# labtrans = DeepHitSingle.label_transform(num_durations)\n",
    "\n",
    "get_target = lambda df: (df['time'].values, df['cens'].values)\n",
    "y_train_transform = labtrans.fit_transform(*get_target(data_y_transform_train))\n",
    "y_test_transform = labtrans.transform(*get_target(data_y_transform_test))\n",
    "\n",
    "\n",
    "# # We don't need to transform the test labels\n",
    "durations_test, events_test = get_target(data_y_transform_test)"
   ]
  },
  {
   "cell_type": "code",
   "execution_count": 83,
   "id": "ab62d981",
   "metadata": {},
   "outputs": [],
   "source": [
    "X_train = X_train.astype('float32')\n",
    "X_test = X_test.astype('float32')\n",
    "X_train_values= X_train.values\n",
    "X_test_values= X_test.values"
   ]
  },
  {
   "cell_type": "code",
   "execution_count": 86,
   "id": "9aec2831",
   "metadata": {},
   "outputs": [
    {
     "name": "stdout",
     "output_type": "stream",
     "text": [
      "0:\t[0s / 0s],\t\ttrain_loss: 1.8390\n",
      "1:\t[0s / 0s],\t\ttrain_loss: 1.3571\n",
      "2:\t[0s / 0s],\t\ttrain_loss: 1.3273\n",
      "3:\t[0s / 1s],\t\ttrain_loss: 1.3146\n",
      "4:\t[0s / 1s],\t\ttrain_loss: 1.3089\n",
      "5:\t[0s / 1s],\t\ttrain_loss: 1.3299\n",
      "6:\t[0s / 2s],\t\ttrain_loss: 1.3039\n",
      "7:\t[0s / 2s],\t\ttrain_loss: 1.3079\n",
      "8:\t[0s / 2s],\t\ttrain_loss: 1.2856\n",
      "9:\t[0s / 3s],\t\ttrain_loss: 1.2957\n",
      "10:\t[0s / 3s],\t\ttrain_loss: 1.2884\n",
      "11:\t[0s / 3s],\t\ttrain_loss: 1.3082\n",
      "12:\t[0s / 4s],\t\ttrain_loss: 1.2888\n",
      "13:\t[0s / 4s],\t\ttrain_loss: 1.2980\n",
      "14:\t[0s / 4s],\t\ttrain_loss: 1.2931\n",
      "15:\t[0s / 4s],\t\ttrain_loss: 1.2981\n",
      "16:\t[0s / 5s],\t\ttrain_loss: 1.2890\n",
      "17:\t[0s / 5s],\t\ttrain_loss: 1.2910\n",
      "18:\t[0s / 5s],\t\ttrain_loss: 1.2916\n",
      "19:\t[0s / 6s],\t\ttrain_loss: 1.2857\n",
      "20:\t[0s / 6s],\t\ttrain_loss: 1.3030\n",
      "21:\t[0s / 6s],\t\ttrain_loss: 1.2840\n",
      "22:\t[0s / 7s],\t\ttrain_loss: 1.2744\n",
      "23:\t[0s / 7s],\t\ttrain_loss: 1.2889\n",
      "24:\t[0s / 7s],\t\ttrain_loss: 1.2924\n",
      "25:\t[0s / 8s],\t\ttrain_loss: 1.2694\n",
      "26:\t[0s / 8s],\t\ttrain_loss: 1.2532\n",
      "27:\t[0s / 8s],\t\ttrain_loss: 1.3001\n",
      "28:\t[0s / 9s],\t\ttrain_loss: 1.2761\n",
      "29:\t[0s / 9s],\t\ttrain_loss: 1.2706\n",
      "30:\t[0s / 9s],\t\ttrain_loss: 1.2632\n",
      "31:\t[0s / 10s],\t\ttrain_loss: 1.2641\n",
      "32:\t[0s / 10s],\t\ttrain_loss: 1.2874\n",
      "33:\t[0s / 10s],\t\ttrain_loss: 1.2969\n",
      "34:\t[0s / 11s],\t\ttrain_loss: 1.2566\n",
      "35:\t[0s / 11s],\t\ttrain_loss: 1.2679\n",
      "36:\t[0s / 11s],\t\ttrain_loss: 1.2511\n",
      "37:\t[0s / 12s],\t\ttrain_loss: 1.2334\n",
      "38:\t[0s / 12s],\t\ttrain_loss: 1.2726\n",
      "39:\t[0s / 12s],\t\ttrain_loss: 1.2670\n",
      "40:\t[0s / 12s],\t\ttrain_loss: 1.2356\n",
      "41:\t[0s / 13s],\t\ttrain_loss: 1.2767\n",
      "42:\t[0s / 13s],\t\ttrain_loss: 1.2845\n",
      "43:\t[0s / 14s],\t\ttrain_loss: 1.2674\n",
      "44:\t[0s / 14s],\t\ttrain_loss: 1.2760\n",
      "45:\t[0s / 14s],\t\ttrain_loss: 1.2532\n",
      "46:\t[0s / 15s],\t\ttrain_loss: 1.2985\n",
      "47:\t[0s / 15s],\t\ttrain_loss: 1.2644\n",
      "48:\t[0s / 15s],\t\ttrain_loss: 1.2838\n",
      "49:\t[0s / 16s],\t\ttrain_loss: 1.2666\n",
      "50:\t[0s / 16s],\t\ttrain_loss: 1.2569\n",
      "51:\t[0s / 16s],\t\ttrain_loss: 1.2477\n",
      "52:\t[0s / 17s],\t\ttrain_loss: 1.2934\n",
      "53:\t[0s / 17s],\t\ttrain_loss: 1.2671\n",
      "54:\t[0s / 17s],\t\ttrain_loss: 1.2661\n",
      "55:\t[0s / 17s],\t\ttrain_loss: 1.2699\n",
      "56:\t[0s / 18s],\t\ttrain_loss: 1.2547\n",
      "57:\t[0s / 18s],\t\ttrain_loss: 1.2612\n",
      "58:\t[0s / 18s],\t\ttrain_loss: 1.2907\n",
      "59:\t[0s / 19s],\t\ttrain_loss: 1.2574\n"
     ]
    }
   ],
   "source": [
    "in_features = X_train.shape[1]\n",
    "num_nodes = [32, 32]\n",
    "out_features = labtrans.out_features\n",
    "batch_norm = True\n",
    "dropout = 0.1\n",
    "net = tt.practical.MLPVanilla(in_features, num_nodes, out_features, batch_norm, dropout)\n",
    "model = LogisticHazard(net, tt.optim.Adam(0.01), duration_index=labtrans.cuts)\n",
    "batch_size = 4\n",
    "epochs = 60\n",
    "log= model.fit(X_train_values, y_train_transform, batch_size, epochs)"
   ]
  },
  {
   "cell_type": "code",
   "execution_count": 87,
   "id": "d3969f65",
   "metadata": {},
   "outputs": [
    {
     "data": {
      "text/plain": [
       "0.608394033992369"
      ]
     },
     "execution_count": 87,
     "metadata": {},
     "output_type": "execute_result"
    }
   ],
   "source": [
    "surv = model.predict_surv_df(X_test_values)\n",
    "ev = EvalSurv(surv, durations_test, events_test, censor_surv='km')\n",
    "ev.concordance_td('antolini')"
   ]
  },
  {
   "cell_type": "code",
   "execution_count": 88,
   "id": "ffc5d09d",
   "metadata": {},
   "outputs": [
    {
     "name": "stdout",
     "output_type": "stream",
     "text": [
      "Concordance Index: 0.6924499942189849\n"
     ]
    }
   ],
   "source": [
    "cox= CoxnetSurvivalAnalysis()\n",
    "rsf = RandomSurvivalForest(n_estimators=1000,\n",
    "                           min_samples_split=10,\n",
    "                           min_samples_leaf=15,\n",
    "                           random_state=42)\n",
    "cox.fit(X_train_values, y_train)\n",
    "rsf.fit(X_train_values, y_train)\n",
    "cox_pred = cox.predict(X_test_values)\n",
    "rsf_pred = rsf.predict(X_test_values)\n",
    "ensemble_pred= (cox_pred+rsf_pred)/2\n",
    "from sksurv.metrics import concordance_index_censored\n",
    "cindex = concordance_index_censored(y_test[\"cens\"], y_test[\"time\"], ensemble_pred)\n",
    "print(\"Concordance Index:\", cindex[0])"
   ]
  },
  {
   "cell_type": "code",
   "execution_count": 5,
   "id": "63b6c21a",
   "metadata": {},
   "outputs": [],
   "source": [
    "X_train = X_train.astype('float32')\n",
    "X_test = X_test.astype('float32')\n",
    "X_train_values= X_train.values\n",
    "X_test_values= X_test.values"
   ]
  },
  {
   "cell_type": "code",
   "execution_count": 7,
   "id": "89206d1c",
   "metadata": {},
   "outputs": [],
   "source": [
    "from sksurv.ensemble import RandomSurvivalForest\n",
    "from sksurv.linear_model import CoxPHSurvivalAnalysis\n"
   ]
  },
  {
   "cell_type": "code",
   "execution_count": 12,
   "id": "48367a18",
   "metadata": {},
   "outputs": [
    {
     "name": "stdout",
     "output_type": "stream",
     "text": [
      "Concordance Index: 0.6919875130072841\n"
     ]
    },
    {
     "name": "stderr",
     "output_type": "stream",
     "text": [
      "C:\\Users\\User\\anaconda3\\lib\\site-packages\\sklearn\\base.py:439: UserWarning: X does not have valid feature names, but CoxnetSurvivalAnalysis was fitted with feature names\n",
      "  warnings.warn(\n"
     ]
    }
   ],
   "source": [
    "from sksurv.linear_model import CoxPHSurvivalAnalysis\n",
    "cox = CoxPHSurvivalAnalysis()\n",
    "rsf = RandomSurvivalForest(n_estimators=1000,\n",
    "                           min_samples_split=10,\n",
    "                           min_samples_leaf=15,\n",
    "                           random_state=42)\n",
    "cox_lasso = CoxnetSurvivalAnalysis(l1_ratio=1, alpha_min_ratio=0.01)\n",
    "cox_lasso.fit(X_train, y_train)\n",
    "cox.fit(X_train_values, y_train)\n",
    "rsf.fit(X_train_values, y_train)\n",
    "lasso_predict = cox_lasso.predict(X_test_values)\n",
    "cox_pred = cox.predict(X_test_values)\n",
    "rsf_pred = rsf.predict(X_test_values)\n",
    "ensemble_pred = np.maximum(cox_pred, rsf_pred, lasso_predict)\n",
    "from sksurv.metrics import concordance_index_censored\n",
    "cindex = concordance_index_censored(y_test[\"cens\"], y_test[\"time\"], ensemble_pred)\n",
    "print(\"Concordance Index:\", cindex[0])"
   ]
  },
  {
   "cell_type": "code",
   "execution_count": null,
   "id": "4330ff16",
   "metadata": {},
   "outputs": [],
   "source": []
  }
 ],
 "metadata": {
  "kernelspec": {
   "display_name": "Python 3 (ipykernel)",
   "language": "python",
   "name": "python3"
  },
  "language_info": {
   "codemirror_mode": {
    "name": "ipython",
    "version": 3
   },
   "file_extension": ".py",
   "mimetype": "text/x-python",
   "name": "python",
   "nbconvert_exporter": "python",
   "pygments_lexer": "ipython3",
   "version": "3.9.13"
  }
 },
 "nbformat": 4,
 "nbformat_minor": 5
}
