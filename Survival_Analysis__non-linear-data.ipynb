{
 "cells": [
  {
   "cell_type": "code",
   "execution_count": 1,
   "id": "023ea80a",
   "metadata": {
    "id": "023ea80a"
   },
   "outputs": [],
   "source": [
    "import numpy as np\n",
    "import pandas as pd\n",
    "from sklearn.model_selection import train_test_split\n",
    "from sklearn.tree import DecisionTreeClassifier\n",
    "from sklearn.preprocessing import MinMaxScaler\n",
    "import torch\n",
    "from sklearn.metrics import accuracy_score\n",
    "import torch\n",
    "import torch.nn as nn\n",
    "import torch.optim as optim\n",
    "from torch.utils.data import DataLoader, TensorDataset\n",
    "import math\n",
    "from sklearn.model_selection import train_test_split,cross_val_score,KFold,StratifiedKFold\n",
    "import torchtuples as tt\n"
   ]
  },
  {
   "cell_type": "code",
   "execution_count": 2,
   "id": "e38f06fc",
   "metadata": {
    "id": "e38f06fc"
   },
   "outputs": [],
   "source": [
    "from sksurv.linear_model import CoxPHSurvivalAnalysis, CoxnetSurvivalAnalysis\n",
    "from sksurv.preprocessing import OneHotEncoder, encode_categorical\n",
    "\n",
    "from sklearn import set_config\n",
    "from sklearn.model_selection import GridSearchCV, KFold\n",
    "from sklearn.pipeline import make_pipeline\n",
    "from sklearn.preprocessing import StandardScaler"
   ]
  },
  {
   "cell_type": "code",
   "execution_count": 3,
   "id": "4bc81497",
   "metadata": {
    "id": "4bc81497",
    "outputId": "7091c35d-629c-455a-cd68-228fa057cf7c"
   },
   "outputs": [
    {
     "data": {
      "text/html": [
       "<div>\n",
       "<style scoped>\n",
       "    .dataframe tbody tr th:only-of-type {\n",
       "        vertical-align: middle;\n",
       "    }\n",
       "\n",
       "    .dataframe tbody tr th {\n",
       "        vertical-align: top;\n",
       "    }\n",
       "\n",
       "    .dataframe thead th {\n",
       "        text-align: right;\n",
       "    }\n",
       "</style>\n",
       "<table border=\"1\" class=\"dataframe\">\n",
       "  <thead>\n",
       "    <tr style=\"text-align: right;\">\n",
       "      <th></th>\n",
       "      <th>x.1</th>\n",
       "      <th>x.2</th>\n",
       "      <th>x.3</th>\n",
       "      <th>x.4</th>\n",
       "      <th>x.5</th>\n",
       "      <th>time</th>\n",
       "      <th>status</th>\n",
       "    </tr>\n",
       "  </thead>\n",
       "  <tbody>\n",
       "    <tr>\n",
       "      <th>0</th>\n",
       "      <td>0.241721</td>\n",
       "      <td>-0.938963</td>\n",
       "      <td>0.995076</td>\n",
       "      <td>0.873026</td>\n",
       "      <td>-0.619099</td>\n",
       "      <td>0.008877</td>\n",
       "      <td>1</td>\n",
       "    </tr>\n",
       "    <tr>\n",
       "      <th>1</th>\n",
       "      <td>0.046930</td>\n",
       "      <td>-2.719881</td>\n",
       "      <td>-0.484127</td>\n",
       "      <td>-0.667630</td>\n",
       "      <td>0.196476</td>\n",
       "      <td>0.003972</td>\n",
       "      <td>1</td>\n",
       "    </tr>\n",
       "    <tr>\n",
       "      <th>2</th>\n",
       "      <td>1.235963</td>\n",
       "      <td>-1.879290</td>\n",
       "      <td>0.076798</td>\n",
       "      <td>0.268316</td>\n",
       "      <td>0.351406</td>\n",
       "      <td>0.071261</td>\n",
       "      <td>0</td>\n",
       "    </tr>\n",
       "    <tr>\n",
       "      <th>3</th>\n",
       "      <td>0.293341</td>\n",
       "      <td>0.003349</td>\n",
       "      <td>0.942017</td>\n",
       "      <td>0.534047</td>\n",
       "      <td>0.595269</td>\n",
       "      <td>0.012935</td>\n",
       "      <td>1</td>\n",
       "    </tr>\n",
       "    <tr>\n",
       "      <th>4</th>\n",
       "      <td>-0.696112</td>\n",
       "      <td>-0.679148</td>\n",
       "      <td>0.271709</td>\n",
       "      <td>0.108177</td>\n",
       "      <td>1.093271</td>\n",
       "      <td>0.310819</td>\n",
       "      <td>1</td>\n",
       "    </tr>\n",
       "    <tr>\n",
       "      <th>...</th>\n",
       "      <td>...</td>\n",
       "      <td>...</td>\n",
       "      <td>...</td>\n",
       "      <td>...</td>\n",
       "      <td>...</td>\n",
       "      <td>...</td>\n",
       "      <td>...</td>\n",
       "    </tr>\n",
       "    <tr>\n",
       "      <th>495</th>\n",
       "      <td>0.304349</td>\n",
       "      <td>-0.144605</td>\n",
       "      <td>-0.051774</td>\n",
       "      <td>0.024919</td>\n",
       "      <td>-2.218288</td>\n",
       "      <td>0.223093</td>\n",
       "      <td>1</td>\n",
       "    </tr>\n",
       "    <tr>\n",
       "      <th>496</th>\n",
       "      <td>-1.079006</td>\n",
       "      <td>-0.199503</td>\n",
       "      <td>-2.160602</td>\n",
       "      <td>-1.945771</td>\n",
       "      <td>-0.394191</td>\n",
       "      <td>0.092461</td>\n",
       "      <td>0</td>\n",
       "    </tr>\n",
       "    <tr>\n",
       "      <th>497</th>\n",
       "      <td>0.962852</td>\n",
       "      <td>-1.074593</td>\n",
       "      <td>0.784579</td>\n",
       "      <td>-1.021117</td>\n",
       "      <td>-0.901006</td>\n",
       "      <td>0.222758</td>\n",
       "      <td>0</td>\n",
       "    </tr>\n",
       "    <tr>\n",
       "      <th>498</th>\n",
       "      <td>0.958008</td>\n",
       "      <td>-1.034877</td>\n",
       "      <td>0.811625</td>\n",
       "      <td>0.912770</td>\n",
       "      <td>1.298918</td>\n",
       "      <td>0.038232</td>\n",
       "      <td>1</td>\n",
       "    </tr>\n",
       "    <tr>\n",
       "      <th>499</th>\n",
       "      <td>-0.068308</td>\n",
       "      <td>0.200515</td>\n",
       "      <td>0.112858</td>\n",
       "      <td>-1.275537</td>\n",
       "      <td>0.307919</td>\n",
       "      <td>0.069957</td>\n",
       "      <td>1</td>\n",
       "    </tr>\n",
       "  </tbody>\n",
       "</table>\n",
       "<p>500 rows × 7 columns</p>\n",
       "</div>"
      ],
      "text/plain": [
       "          x.1       x.2       x.3       x.4       x.5      time  status\n",
       "0    0.241721 -0.938963  0.995076  0.873026 -0.619099  0.008877       1\n",
       "1    0.046930 -2.719881 -0.484127 -0.667630  0.196476  0.003972       1\n",
       "2    1.235963 -1.879290  0.076798  0.268316  0.351406  0.071261       0\n",
       "3    0.293341  0.003349  0.942017  0.534047  0.595269  0.012935       1\n",
       "4   -0.696112 -0.679148  0.271709  0.108177  1.093271  0.310819       1\n",
       "..        ...       ...       ...       ...       ...       ...     ...\n",
       "495  0.304349 -0.144605 -0.051774  0.024919 -2.218288  0.223093       1\n",
       "496 -1.079006 -0.199503 -2.160602 -1.945771 -0.394191  0.092461       0\n",
       "497  0.962852 -1.074593  0.784579 -1.021117 -0.901006  0.222758       0\n",
       "498  0.958008 -1.034877  0.811625  0.912770  1.298918  0.038232       1\n",
       "499 -0.068308  0.200515  0.112858 -1.275537  0.307919  0.069957       1\n",
       "\n",
       "[500 rows x 7 columns]"
      ]
     },
     "execution_count": 3,
     "metadata": {},
     "output_type": "execute_result"
    }
   ],
   "source": [
    "datas = pd.read_csv('Simulated_Non_Linear.csv')\n",
    "datas"
   ]
  },
  {
   "cell_type": "code",
   "execution_count": 4,
   "id": "a20ae016",
   "metadata": {
    "id": "a20ae016"
   },
   "outputs": [],
   "source": [
    "data_y = datas.loc[:, ['time', 'status']].copy()\n",
    "data_y = data_y.rename(columns={'status': 'cens'})\n",
    "data_x = datas.drop(['time', 'status'], axis=1)\n",
    "\n",
    "\n",
    "X_train, X_test, y_train, y_test = train_test_split(data_x, data_y, test_size=0.3, random_state=1)\n",
    "list_of_tuples = list(y_train.itertuples(index=False, name=None))\n",
    "swapped_list = [(t[1], t[0]) for t in list_of_tuples]\n",
    "y_train = np.array(swapped_list, dtype=[('cens', bool), ('time', float)])\n",
    "list_of_tuples = list(y_test.itertuples(index=False, name=None))\n",
    "swapped_list = [(t[1], t[0]) for t in list_of_tuples]\n",
    "y_test = np.array(swapped_list, dtype=[('cens', bool), ('time', float)])"
   ]
  },
  {
   "cell_type": "code",
   "execution_count": 5,
   "id": "6715b7b9",
   "metadata": {
    "id": "6715b7b9"
   },
   "outputs": [],
   "source": [
    "for df in [X_train, X_test]:\n",
    "    numeric_columns = df.select_dtypes(include=['float64', 'int64']).columns\n",
    "    df[numeric_columns] = (df[numeric_columns] - df[numeric_columns].min()) / (df[numeric_columns].max() - df[numeric_columns].min())"
   ]
  },
  {
   "cell_type": "code",
   "execution_count": 6,
   "id": "f05796d6",
   "metadata": {
    "id": "f05796d6",
    "outputId": "0a499322-6300-468d-b871-9089909f6258"
   },
   "outputs": [
    {
     "data": {
      "text/html": [
       "<div>\n",
       "<style scoped>\n",
       "    .dataframe tbody tr th:only-of-type {\n",
       "        vertical-align: middle;\n",
       "    }\n",
       "\n",
       "    .dataframe tbody tr th {\n",
       "        vertical-align: top;\n",
       "    }\n",
       "\n",
       "    .dataframe thead th {\n",
       "        text-align: right;\n",
       "    }\n",
       "</style>\n",
       "<table border=\"1\" class=\"dataframe\">\n",
       "  <thead>\n",
       "    <tr style=\"text-align: right;\">\n",
       "      <th></th>\n",
       "      <th>x.1</th>\n",
       "      <th>x.2</th>\n",
       "      <th>x.3</th>\n",
       "      <th>x.4</th>\n",
       "      <th>x.5</th>\n",
       "    </tr>\n",
       "  </thead>\n",
       "  <tbody>\n",
       "    <tr>\n",
       "      <th>304</th>\n",
       "      <td>0.604340</td>\n",
       "      <td>0.140081</td>\n",
       "      <td>0.376403</td>\n",
       "      <td>0.000000</td>\n",
       "      <td>0.565903</td>\n",
       "    </tr>\n",
       "    <tr>\n",
       "      <th>340</th>\n",
       "      <td>0.477010</td>\n",
       "      <td>0.780419</td>\n",
       "      <td>0.378433</td>\n",
       "      <td>0.670849</td>\n",
       "      <td>0.569618</td>\n",
       "    </tr>\n",
       "    <tr>\n",
       "      <th>47</th>\n",
       "      <td>0.643260</td>\n",
       "      <td>0.716386</td>\n",
       "      <td>0.142990</td>\n",
       "      <td>0.349455</td>\n",
       "      <td>0.611125</td>\n",
       "    </tr>\n",
       "    <tr>\n",
       "      <th>67</th>\n",
       "      <td>0.662239</td>\n",
       "      <td>0.644058</td>\n",
       "      <td>0.433874</td>\n",
       "      <td>0.476531</td>\n",
       "      <td>0.523679</td>\n",
       "    </tr>\n",
       "    <tr>\n",
       "      <th>479</th>\n",
       "      <td>0.055268</td>\n",
       "      <td>0.295988</td>\n",
       "      <td>0.990846</td>\n",
       "      <td>0.475181</td>\n",
       "      <td>0.480751</td>\n",
       "    </tr>\n",
       "    <tr>\n",
       "      <th>...</th>\n",
       "      <td>...</td>\n",
       "      <td>...</td>\n",
       "      <td>...</td>\n",
       "      <td>...</td>\n",
       "      <td>...</td>\n",
       "    </tr>\n",
       "    <tr>\n",
       "      <th>331</th>\n",
       "      <td>0.207971</td>\n",
       "      <td>0.664506</td>\n",
       "      <td>0.002574</td>\n",
       "      <td>0.419819</td>\n",
       "      <td>0.914328</td>\n",
       "    </tr>\n",
       "    <tr>\n",
       "      <th>197</th>\n",
       "      <td>0.781737</td>\n",
       "      <td>0.042936</td>\n",
       "      <td>0.800449</td>\n",
       "      <td>0.679145</td>\n",
       "      <td>0.625356</td>\n",
       "    </tr>\n",
       "    <tr>\n",
       "      <th>95</th>\n",
       "      <td>0.558594</td>\n",
       "      <td>0.298991</td>\n",
       "      <td>0.105625</td>\n",
       "      <td>0.517092</td>\n",
       "      <td>0.467101</td>\n",
       "    </tr>\n",
       "    <tr>\n",
       "      <th>122</th>\n",
       "      <td>0.381511</td>\n",
       "      <td>0.541898</td>\n",
       "      <td>0.697024</td>\n",
       "      <td>0.687302</td>\n",
       "      <td>0.575697</td>\n",
       "    </tr>\n",
       "    <tr>\n",
       "      <th>23</th>\n",
       "      <td>0.615350</td>\n",
       "      <td>0.282197</td>\n",
       "      <td>1.000000</td>\n",
       "      <td>0.505555</td>\n",
       "      <td>0.225588</td>\n",
       "    </tr>\n",
       "  </tbody>\n",
       "</table>\n",
       "<p>150 rows × 5 columns</p>\n",
       "</div>"
      ],
      "text/plain": [
       "          x.1       x.2       x.3       x.4       x.5\n",
       "304  0.604340  0.140081  0.376403  0.000000  0.565903\n",
       "340  0.477010  0.780419  0.378433  0.670849  0.569618\n",
       "47   0.643260  0.716386  0.142990  0.349455  0.611125\n",
       "67   0.662239  0.644058  0.433874  0.476531  0.523679\n",
       "479  0.055268  0.295988  0.990846  0.475181  0.480751\n",
       "..        ...       ...       ...       ...       ...\n",
       "331  0.207971  0.664506  0.002574  0.419819  0.914328\n",
       "197  0.781737  0.042936  0.800449  0.679145  0.625356\n",
       "95   0.558594  0.298991  0.105625  0.517092  0.467101\n",
       "122  0.381511  0.541898  0.697024  0.687302  0.575697\n",
       "23   0.615350  0.282197  1.000000  0.505555  0.225588\n",
       "\n",
       "[150 rows x 5 columns]"
      ]
     },
     "execution_count": 6,
     "metadata": {},
     "output_type": "execute_result"
    }
   ],
   "source": [
    "X_test"
   ]
  },
  {
   "cell_type": "markdown",
   "id": "640776f0",
   "metadata": {
    "id": "640776f0"
   },
   "source": [
    "# MODELS"
   ]
  },
  {
   "cell_type": "code",
   "execution_count": 7,
   "id": "8ac3d411",
   "metadata": {
    "id": "8ac3d411",
    "outputId": "ca008a46-e725-438c-ebbe-d3f78a94a34d"
   },
   "outputs": [
    {
     "data": {
      "text/plain": [
       "0.5307301698476624"
      ]
     },
     "execution_count": 7,
     "metadata": {},
     "output_type": "execute_result"
    }
   ],
   "source": [
    "cox_lasso = CoxnetSurvivalAnalysis(l1_ratio=1, alpha_min_ratio=0.01)\n",
    "cox_lasso.fit(X_train, y_train)\n",
    "cox_lasso.score(X_test, y_test)"
   ]
  },
  {
   "cell_type": "code",
   "execution_count": 8,
   "id": "92b5c88a",
   "metadata": {
    "id": "92b5c88a",
    "outputId": "c821be79-572d-4dcd-ced7-c1e5f825edc8"
   },
   "outputs": [
    {
     "data": {
      "text/plain": [
       "0.5300297671160917"
      ]
     },
     "execution_count": 8,
     "metadata": {},
     "output_type": "execute_result"
    }
   ],
   "source": [
    "cox_ridge = CoxnetSurvivalAnalysis(l1_ratio=0.00001, alpha_min_ratio=0.01)\n",
    "cox_ridge.fit(X_train, y_train)\n",
    "cox_ridge.score(X_test, y_test)"
   ]
  },
  {
   "cell_type": "code",
   "execution_count": 9,
   "id": "4d8423c2",
   "metadata": {
    "id": "4d8423c2"
   },
   "outputs": [],
   "source": [
    "import matplotlib.pyplot as plt\n",
    "from sklearn.preprocessing import StandardScaler\n",
    "import seaborn as sns\n",
    "\n",
    "sns.set_style(\"white\")\n",
    "\n",
    "import torch # For building the networks\n",
    "import torchtuples as tt # Some useful functions\n",
    "from torch import nn\n",
    "import torch.nn.functional as F\n",
    "\n",
    "from pycox.datasets import support\n",
    "from pycox.models import DeepHitSingle\n",
    "from pycox.models import CoxPH\n",
    "from pycox.evaluation import EvalSurv\n",
    "from pycox.preprocessing.feature_transforms import OrderedCategoricalLong\n",
    "from pycox.models.loss import rank_loss_deephit_single"
   ]
  },
  {
   "cell_type": "code",
   "execution_count": 10,
   "id": "16b53b90",
   "metadata": {
    "id": "16b53b90"
   },
   "outputs": [],
   "source": [
    "data_y_transform_train = pd.DataFrame.from_records(y_train, columns=['event', 'time'])\n",
    "data_y_transform_test = pd.DataFrame.from_records(y_test, columns=['event', 'time'])\n",
    "data_y_transform_train['cens'] = data_y_transform_train['cens'].replace({True: 1, False: 0})\n",
    "data_y_transform_test['cens'] = data_y_transform_test['cens'].replace({True: 1, False: 0})\n",
    "X_train = X_train.astype('float32')\n",
    "X_test = X_test.astype('float32')\n",
    "X_train_values= X_train.values\n",
    "X_test_values= X_test.values"
   ]
  },
  {
   "cell_type": "code",
   "execution_count": 11,
   "id": "1c54b7e1",
   "metadata": {
    "id": "1c54b7e1"
   },
   "outputs": [],
   "source": [
    "num_durations = 10\n",
    "\n",
    "labtrans = DeepHitSingle.label_transform(num_durations)\n",
    "get_target = lambda df: (df['time'].values, df['cens'].values)\n",
    "y_train_deephit = labtrans.fit_transform(*get_target(data_y_transform_train))\n",
    "durations_test, events_test = get_target(data_y_transform_test)"
   ]
  },
  {
   "cell_type": "code",
   "execution_count": 12,
   "id": "ab12cd52",
   "metadata": {
    "id": "ab12cd52",
    "outputId": "a9bebdb7-82a0-433e-aa20-7409a2c4d4f1"
   },
   "outputs": [
    {
     "name": "stderr",
     "output_type": "stream",
     "text": [
      "C:\\Users\\User\\anaconda3\\lib\\site-packages\\torchtuples\\callbacks.py:607: UserWarning: This overload of add is deprecated:\n",
      "\tadd(Number alpha, Tensor other)\n",
      "Consider using one of the following signatures instead:\n",
      "\tadd(Tensor other, *, Number alpha) (Triggered internally at  ..\\torch\\csrc\\utils\\python_arg_parser.cpp:1025.)\n",
      "  p.data = p.data.add(-weight_decay * eta, p.data)\n"
     ]
    },
    {
     "name": "stdout",
     "output_type": "stream",
     "text": [
      "0:\t[0s / 0s],\t\ttrain_loss: 0.2804\n",
      "1:\t[0s / 0s],\t\ttrain_loss: 0.2646\n",
      "2:\t[0s / 0s],\t\ttrain_loss: 0.2613\n",
      "3:\t[0s / 1s],\t\ttrain_loss: 0.2452\n",
      "4:\t[0s / 1s],\t\ttrain_loss: 0.2280\n",
      "5:\t[0s / 1s],\t\ttrain_loss: 0.2286\n",
      "6:\t[0s / 1s],\t\ttrain_loss: 0.2236\n",
      "7:\t[0s / 1s],\t\ttrain_loss: 0.2137\n",
      "8:\t[0s / 1s],\t\ttrain_loss: 0.2070\n",
      "9:\t[0s / 1s],\t\ttrain_loss: 0.1976\n",
      "10:\t[0s / 2s],\t\ttrain_loss: 0.1810\n",
      "11:\t[0s / 2s],\t\ttrain_loss: 0.1779\n",
      "12:\t[0s / 2s],\t\ttrain_loss: 0.1655\n",
      "13:\t[0s / 2s],\t\ttrain_loss: 0.1714\n",
      "14:\t[0s / 2s],\t\ttrain_loss: 0.1661\n",
      "15:\t[0s / 2s],\t\ttrain_loss: 0.1556\n",
      "16:\t[0s / 3s],\t\ttrain_loss: 0.1498\n",
      "17:\t[0s / 3s],\t\ttrain_loss: 0.1723\n",
      "18:\t[0s / 3s],\t\ttrain_loss: 0.1329\n",
      "19:\t[0s / 3s],\t\ttrain_loss: 0.1407\n",
      "20:\t[0s / 3s],\t\ttrain_loss: 0.1334\n",
      "21:\t[0s / 3s],\t\ttrain_loss: 0.1341\n",
      "22:\t[0s / 3s],\t\ttrain_loss: 0.1232\n",
      "23:\t[0s / 4s],\t\ttrain_loss: 0.1182\n",
      "24:\t[0s / 4s],\t\ttrain_loss: 0.1107\n",
      "25:\t[0s / 4s],\t\ttrain_loss: 0.1204\n",
      "26:\t[0s / 4s],\t\ttrain_loss: 0.1112\n",
      "27:\t[0s / 4s],\t\ttrain_loss: 0.1120\n",
      "28:\t[0s / 4s],\t\ttrain_loss: 0.1104\n",
      "29:\t[0s / 4s],\t\ttrain_loss: 0.1097\n"
     ]
    },
    {
     "data": {
      "text/plain": [
       "0.5410611101383296"
      ]
     },
     "execution_count": 12,
     "metadata": {},
     "output_type": "execute_result"
    }
   ],
   "source": [
    "in_features = X_train.shape[1]\n",
    "out_features = labtrans.out_features\n",
    "num_nodes = [32]\n",
    "batch_norm = True\n",
    "dropout = 0.2\n",
    "\n",
    "net = tt.practical.MLPVanilla(in_features, num_nodes, out_features, batch_norm, dropout)\n",
    "optimizer = tt.optim.AdamWR(decoupled_weight_decay=0.01, cycle_eta_multiplier=0.8,\n",
    "                            cycle_multiplier=2)\n",
    "model_deep_hit = DeepHitSingle(net, optimizer, alpha = 0.2, sigma = 0.1, duration_index=labtrans.cuts)\n",
    "epochs = 30\n",
    "batch_size=8\n",
    "model_deep_hit.fit(X_train_values, y_train_deephit, batch_size, epochs)\n",
    "surv = model_deep_hit.predict_surv_df(X_test_values)\n",
    "ev = EvalSurv(surv, durations_test, events_test, censor_surv='km')\n",
    "ev.concordance_td('antolini')"
   ]
  },
  {
   "cell_type": "code",
   "execution_count": 13,
   "id": "08218960",
   "metadata": {
    "id": "08218960",
    "outputId": "78858407-27a7-43fb-8d5b-178780cb736d"
   },
   "outputs": [
    {
     "data": {
      "text/plain": [
       "0.6270355454386272"
      ]
     },
     "execution_count": 13,
     "metadata": {},
     "output_type": "execute_result"
    }
   ],
   "source": [
    "from sksurv.ensemble import RandomSurvivalForest\n",
    "rsf = RandomSurvivalForest(n_estimators=1000,\n",
    "                           min_samples_split=10,\n",
    "                           min_samples_leaf=15,\n",
    "                           n_jobs=-1,\n",
    "                           random_state=42)\n",
    "rsf.fit(X_train,y_train)\n",
    "rsf.score(X_test, y_test)"
   ]
  },
  {
   "cell_type": "code",
   "execution_count": 14,
   "id": "dda38a30",
   "metadata": {
    "id": "dda38a30",
    "outputId": "c3cd8e0d-9376-43dd-cdb1-7b4e067d98a3"
   },
   "outputs": [
    {
     "data": {
      "text/plain": [
       "0.5289791630187358"
      ]
     },
     "execution_count": 14,
     "metadata": {},
     "output_type": "execute_result"
    }
   ],
   "source": [
    "from sksurv.linear_model import CoxPHSurvivalAnalysis\n",
    "estimator = CoxPHSurvivalAnalysis().fit(X_train, y_train)\n",
    "estimator.score(X_test,y_test)"
   ]
  },
  {
   "cell_type": "code",
   "execution_count": 15,
   "id": "d3fd4e90",
   "metadata": {
    "id": "d3fd4e90",
    "outputId": "ebe69a6c-d591-4314-c30f-538aca2f9bd5"
   },
   "outputs": [
    {
     "data": {
      "text/plain": [
       "0.5316056732621257"
      ]
     },
     "execution_count": 15,
     "metadata": {},
     "output_type": "execute_result"
    }
   ],
   "source": [
    "from sksurv.linear_model import CoxnetSurvivalAnalysis\n",
    "estimator = CoxnetSurvivalAnalysis(l1_ratio=0.99, fit_baseline_model=True)\n",
    "estimator.fit(X_train, y_train)\n",
    "estimator.score(X_test, y_test)"
   ]
  },
  {
   "cell_type": "code",
   "execution_count": 16,
   "id": "34ad353d",
   "metadata": {
    "id": "34ad353d",
    "outputId": "9c3bff5c-b166-4639-b5c5-bee3d6d4fe1c"
   },
   "outputs": [
    {
     "data": {
      "text/plain": [
       "0.5788828576431448"
      ]
     },
     "execution_count": 16,
     "metadata": {},
     "output_type": "execute_result"
    }
   ],
   "source": [
    "from sksurv.ensemble import GradientBoostingSurvivalAnalysis\n",
    "est_cph_tree = GradientBoostingSurvivalAnalysis(\n",
    "    n_estimators=100, learning_rate=1.0, max_depth=1, random_state=0\n",
    ")\n",
    "est_cph_tree.fit(X_train, y_train)\n",
    "cindex = est_cph_tree.score(X_test, y_test)\n",
    "cindex"
   ]
  },
  {
   "cell_type": "code",
   "execution_count": null,
   "id": "2669ea09",
   "metadata": {
    "id": "2669ea09"
   },
   "outputs": [],
   "source": []
  },
  {
   "cell_type": "code",
   "execution_count": null,
   "id": "39e255fc",
   "metadata": {
    "id": "39e255fc"
   },
   "outputs": [],
   "source": []
  },
  {
   "cell_type": "code",
   "execution_count": 17,
   "id": "e2e147ae",
   "metadata": {
    "id": "e2e147ae"
   },
   "outputs": [],
   "source": [
    "import torch\n",
    "import torchtuples as tt\n",
    "\n",
    "from pycox.datasets import metabric\n",
    "from pycox.models import CoxPH\n",
    "from pycox.evaluation import EvalSurv"
   ]
  },
  {
   "cell_type": "code",
   "execution_count": 18,
   "id": "3ff3ed0c",
   "metadata": {
    "id": "3ff3ed0c"
   },
   "outputs": [],
   "source": [
    "get_target = lambda df: (df['time'].values, df['cens'].values)\n",
    "y_train_deepsurv = get_target(data_y_transform_train)\n",
    "durations_test, events_test = get_target(data_y_transform_test)"
   ]
  },
  {
   "cell_type": "code",
   "execution_count": 19,
   "id": "06b73e8d",
   "metadata": {
    "id": "06b73e8d"
   },
   "outputs": [],
   "source": [
    "in_features = X_train.shape[1]\n",
    "num_nodes = [64, 64]\n",
    "out_features = 1\n",
    "batch_norm = True\n",
    "dropout = 0.2\n",
    "output_bias = False\n",
    "\n",
    "net = tt.practical.MLPVanilla(in_features, num_nodes, out_features, batch_norm,\n",
    "                              dropout, output_bias=output_bias)"
   ]
  },
  {
   "cell_type": "code",
   "execution_count": 21,
   "id": "46e853af",
   "metadata": {
    "id": "46e853af"
   },
   "outputs": [],
   "source": [
    "from pycox.models import LogisticHazard\n",
    "# from pycox.models import PMF\n",
    "# from pycox.models import DeepHitSingle\n",
    "from pycox.evaluation import EvalSurv"
   ]
  },
  {
   "cell_type": "code",
   "execution_count": 22,
   "id": "d45c06c0",
   "metadata": {
    "id": "d45c06c0"
   },
   "outputs": [],
   "source": [
    "num_durations = 10\n",
    "\n",
    "labtrans = LogisticHazard.label_transform(num_durations)\n",
    "# labtrans = PMF.label_transform(num_durations)\n",
    "# labtrans = DeepHitSingle.label_transform(num_durations)\n",
    "\n",
    "get_target = lambda df: (df['time'].values, df['cens'].values)\n",
    "y_train_loghazard = labtrans.fit_transform(*get_target(data_y_transform_train))\n",
    "y_test_loghazard = labtrans.transform(*get_target(data_y_transform_test))\n",
    "\n",
    "\n",
    "# # We don't need to transform the test labels\n",
    "durations_test, events_test = get_target(data_y_transform_test)"
   ]
  },
  {
   "cell_type": "code",
   "execution_count": 23,
   "id": "c517150a",
   "metadata": {
    "id": "c517150a"
   },
   "outputs": [],
   "source": [
    "X_train = X_train.astype('float32')\n",
    "X_test = X_test.astype('float32')\n",
    "X_train_values= X_train.values\n",
    "X_test_values= X_test.values"
   ]
  },
  {
   "cell_type": "code",
   "execution_count": 24,
   "id": "29cae88b",
   "metadata": {
    "id": "29cae88b",
    "outputId": "93c66687-983b-4bde-9f60-b07c4bde3e5f"
   },
   "outputs": [
    {
     "name": "stdout",
     "output_type": "stream",
     "text": [
      "0:\t[0s / 0s],\t\ttrain_loss: 1.1487\n",
      "1:\t[0s / 0s],\t\ttrain_loss: 0.7790\n",
      "2:\t[0s / 0s],\t\ttrain_loss: 0.4143\n",
      "3:\t[0s / 0s],\t\ttrain_loss: 0.2415\n",
      "4:\t[0s / 0s],\t\ttrain_loss: 0.1862\n",
      "5:\t[0s / 0s],\t\ttrain_loss: 0.1580\n",
      "6:\t[0s / 0s],\t\ttrain_loss: 0.1466\n",
      "7:\t[0s / 0s],\t\ttrain_loss: 0.1382\n",
      "8:\t[0s / 0s],\t\ttrain_loss: 0.1424\n",
      "9:\t[0s / 0s],\t\ttrain_loss: 0.1297\n",
      "10:\t[0s / 0s],\t\ttrain_loss: 0.1387\n",
      "11:\t[0s / 0s],\t\ttrain_loss: 0.1226\n",
      "12:\t[0s / 0s],\t\ttrain_loss: 0.1196\n",
      "13:\t[0s / 0s],\t\ttrain_loss: 0.1371\n",
      "14:\t[0s / 0s],\t\ttrain_loss: 0.1263\n",
      "15:\t[0s / 0s],\t\ttrain_loss: 0.1173\n",
      "16:\t[0s / 0s],\t\ttrain_loss: 0.1086\n",
      "17:\t[0s / 0s],\t\ttrain_loss: 0.1175\n",
      "18:\t[0s / 0s],\t\ttrain_loss: 0.0946\n",
      "19:\t[0s / 0s],\t\ttrain_loss: 0.1021\n"
     ]
    },
    {
     "data": {
      "text/plain": [
       "0.4505340570828226"
      ]
     },
     "execution_count": 24,
     "metadata": {},
     "output_type": "execute_result"
    }
   ],
   "source": [
    "in_features = X_train.shape[1]\n",
    "num_nodes = [32, 32]\n",
    "out_features = labtrans.out_features\n",
    "batch_norm = True\n",
    "dropout = 0.1\n",
    "net = tt.practical.MLPVanilla(in_features, num_nodes, out_features, batch_norm, dropout)\n",
    "model = LogisticHazard(net, tt.optim.Adam(0.01), duration_index=labtrans.cuts)\n",
    "batch_size = 32\n",
    "epochs = 20\n",
    "log= model.fit(X_train_values, y_train_loghazard, batch_size, epochs)\n",
    "surv = model.predict_surv_df(X_test_values)\n",
    "ev = EvalSurv(surv, durations_test, events_test, censor_surv='km')\n",
    "ev.concordance_td('antolini')"
   ]
  },
  {
   "cell_type": "code",
   "execution_count": 25,
   "id": "9fb6f9ab",
   "metadata": {
    "id": "9fb6f9ab",
    "outputId": "60cf9698-56d3-4e00-96da-2fc7b8472e25"
   },
   "outputs": [
    {
     "name": "stdout",
     "output_type": "stream",
     "text": [
      "Concordance Index: 0.6261600420241639\n"
     ]
    }
   ],
   "source": [
    "cox= CoxnetSurvivalAnalysis()\n",
    "rsf = RandomSurvivalForest(n_estimators=1000,\n",
    "                           min_samples_split=10,\n",
    "                           min_samples_leaf=15,\n",
    "                           random_state=42)\n",
    "cox.fit(X_train_values, y_train)\n",
    "rsf.fit(X_train_values, y_train)\n",
    "cox_pred = cox.predict(X_test_values)\n",
    "rsf_pred = rsf.predict(X_test_values)\n",
    "ensemble_pred= (cox_pred+rsf_pred)/2\n",
    "from sksurv.metrics import concordance_index_censored\n",
    "cindex = concordance_index_censored(y_test[\"cens\"], y_test[\"time\"], ensemble_pred)\n",
    "print(\"Concordance Index:\", cindex[0])"
   ]
  },
  {
   "cell_type": "code",
   "execution_count": 26,
   "id": "1eec45dc",
   "metadata": {
    "id": "1eec45dc",
    "outputId": "605bd202-9980-48ed-f4d9-cd6b7262a96c"
   },
   "outputs": [
    {
     "name": "stdout",
     "output_type": "stream",
     "text": [
      "Concordance Index: 0.6270355454386272\n"
     ]
    },
    {
     "name": "stderr",
     "output_type": "stream",
     "text": [
      "C:\\Users\\User\\anaconda3\\lib\\site-packages\\sklearn\\base.py:439: UserWarning: X does not have valid feature names, but CoxnetSurvivalAnalysis was fitted with feature names\n",
      "  warnings.warn(\n"
     ]
    }
   ],
   "source": [
    "cox= CoxPHSurvivalAnalysis()\n",
    "rsf = RandomSurvivalForest(n_estimators=1000,\n",
    "                           min_samples_split=10,\n",
    "                           min_samples_leaf=15,\n",
    "                           random_state=42)\n",
    "cox_lasso = CoxnetSurvivalAnalysis(l1_ratio=1, alpha_min_ratio=0.01)\n",
    "cox_lasso.fit(X_train, y_train)\n",
    "cox.fit(X_train_values, y_train)\n",
    "rsf.fit(X_train_values, y_train)\n",
    "lasso_predict = cox_lasso.predict(X_test_values)\n",
    "cox_pred = cox.predict(X_test_values)\n",
    "rsf_pred = rsf.predict(X_test_values)\n",
    "ensemble_pred = np.maximum(cox_pred, rsf_pred, lasso_predict)\n",
    "from sksurv.metrics import concordance_index_censored\n",
    "cindex = concordance_index_censored(y_test[\"cens\"], y_test[\"time\"], ensemble_pred)\n",
    "print(\"Concordance Index:\", cindex[0])"
   ]
  },
  {
   "cell_type": "code",
   "execution_count": null,
   "id": "7cfb80b1",
   "metadata": {
    "id": "7cfb80b1"
   },
   "outputs": [],
   "source": []
  }
 ],
 "metadata": {
  "colab": {
   "provenance": []
  },
  "kernelspec": {
   "display_name": "Python 3 (ipykernel)",
   "language": "python",
   "name": "python3"
  },
  "language_info": {
   "codemirror_mode": {
    "name": "ipython",
    "version": 3
   },
   "file_extension": ".py",
   "mimetype": "text/x-python",
   "name": "python",
   "nbconvert_exporter": "python",
   "pygments_lexer": "ipython3",
   "version": "3.9.13"
  }
 },
 "nbformat": 4,
 "nbformat_minor": 5
}
